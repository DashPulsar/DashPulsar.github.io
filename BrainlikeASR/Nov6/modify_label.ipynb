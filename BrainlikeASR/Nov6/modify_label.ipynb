{
 "cells": [
  {
   "cell_type": "code",
   "execution_count": 290,
   "metadata": {},
   "outputs": [
    {
     "name": "stderr",
     "output_type": "stream",
     "text": [
      "[nltk_data] Downloading package cmudict to\n",
      "[nltk_data]     C:\\Users\\Alex\\AppData\\Roaming\\nltk_data...\n",
      "[nltk_data]   Package cmudict is already up-to-date!\n"
     ]
    },
    {
     "name": "stdout",
     "output_type": "stream",
     "text": [
      "WARNING:tensorflow:From c:\\Users\\Alex\\anaconda3\\envs\\BayesPCN\\lib\\site-packages\\keras\\src\\losses.py:2976: The name tf.losses.sparse_softmax_cross_entropy is deprecated. Please use tf.compat.v1.losses.sparse_softmax_cross_entropy instead.\n",
      "\n"
     ]
    },
    {
     "name": "stderr",
     "output_type": "stream",
     "text": [
      "c:\\Users\\Alex\\anaconda3\\envs\\BayesPCN\\lib\\site-packages\\huggingface_hub\\file_download.py:1132: FutureWarning: `resume_download` is deprecated and will be removed in version 1.0.0. Downloads always resume when possible. If you want to force a new download, use `force_download=True`.\n",
      "  warnings.warn(\n",
      "Some weights of the model checkpoint at facebook/wav2vec2-lv-60-espeak-cv-ft were not used when initializing Wav2Vec2ForCTC: ['wav2vec2.encoder.pos_conv_embed.conv.weight_g', 'wav2vec2.encoder.pos_conv_embed.conv.weight_v']\n",
      "- This IS expected if you are initializing Wav2Vec2ForCTC from the checkpoint of a model trained on another task or with another architecture (e.g. initializing a BertForSequenceClassification model from a BertForPreTraining model).\n",
      "- This IS NOT expected if you are initializing Wav2Vec2ForCTC from the checkpoint of a model that you expect to be exactly identical (initializing a BertForSequenceClassification model from a BertForSequenceClassification model).\n",
      "Some weights of Wav2Vec2ForCTC were not initialized from the model checkpoint at facebook/wav2vec2-lv-60-espeak-cv-ft and are newly initialized: ['wav2vec2.encoder.pos_conv_embed.conv.parametrizations.weight.original0', 'wav2vec2.encoder.pos_conv_embed.conv.parametrizations.weight.original1']\n",
      "You should probably TRAIN this model on a down-stream task to be able to use it for predictions and inference.\n",
      "c:\\Users\\Alex\\anaconda3\\envs\\BayesPCN\\lib\\site-packages\\huggingface_hub\\file_download.py:1132: FutureWarning: `resume_download` is deprecated and will be removed in version 1.0.0. Downloads always resume when possible. If you want to force a new download, use `force_download=True`.\n",
      "  warnings.warn(\n",
      "Some weights of the model checkpoint at facebook/wav2vec2-large-960h were not used when initializing Wav2Vec2ForCTC: ['wav2vec2.encoder.pos_conv_embed.conv.weight_g', 'wav2vec2.encoder.pos_conv_embed.conv.weight_v']\n",
      "- This IS expected if you are initializing Wav2Vec2ForCTC from the checkpoint of a model trained on another task or with another architecture (e.g. initializing a BertForSequenceClassification model from a BertForPreTraining model).\n",
      "- This IS NOT expected if you are initializing Wav2Vec2ForCTC from the checkpoint of a model that you expect to be exactly identical (initializing a BertForSequenceClassification model from a BertForSequenceClassification model).\n",
      "Some weights of Wav2Vec2ForCTC were not initialized from the model checkpoint at facebook/wav2vec2-large-960h and are newly initialized: ['wav2vec2.encoder.pos_conv_embed.conv.parametrizations.weight.original0', 'wav2vec2.encoder.pos_conv_embed.conv.parametrizations.weight.original1', 'wav2vec2.masked_spec_embed']\n",
      "You should probably TRAIN this model on a down-stream task to be able to use it for predictions and inference.\n"
     ]
    }
   ],
   "source": [
    "import soundfile as sf\n",
    "from pydub import AudioSegment\n",
    "import pandas as pd\n",
    "import os\n",
    "import textgrid\n",
    "import tqdm\n",
    "import matplotlib.pyplot as plt\n",
    "import numpy as np\n",
    "\n",
    "\n",
    "from phonecodes import phonecodes\n",
    "from torchtext.data.utils import get_tokenizer\n",
    "from torchtext.vocab import build_vocab_from_iterator\n",
    "from typing import Iterable, List\n",
    "from torch.nn.utils.rnn import pad_sequence\n",
    "from torch.utils.data import DataLoader, Dataset\n",
    "from timeit import default_timer as timer\n",
    "from torch.nn import Transformer\n",
    "from torch import Tensor\n",
    "from sklearn.model_selection import train_test_split\n",
    "import copy\n",
    "import tqdm\n",
    "import librosa\n",
    "import seaborn as sns\n",
    "import torch.nn as nn\n",
    "import torch\n",
    "import torch.nn.functional as F\n",
    "import numpy as np\n",
    "import math\n",
    "import os\n",
    "import pandas as pd\n",
    "import matplotlib.pyplot as plt\n",
    "import textgrid\n",
    "from scipy.spatial.distance import euclidean\n",
    "import plotly.graph_objects as go\n",
    "import pandas as pd\n",
    "import jiwer\n",
    "device = torch.device(\"cuda\" if torch.cuda.is_available() else \"cpu\")\n",
    "import nltk\n",
    "nltk.download('cmudict')\n",
    "from nltk.corpus import cmudict\n",
    "from transformers import AutoProcessor, AutoModelForCTC\n",
    "from phonemizer.backend.espeak.wrapper import EspeakWrapper\n",
    "import soundfile as sf\n",
    "\n",
    "_ESPEAK_LIBRARY = r\"C:\\Program Files\\eSpeak NG\\libespeak-ng.dll\"\n",
    "EspeakWrapper.set_library(_ESPEAK_LIBRARY)\n",
    "processor_P = AutoProcessor.from_pretrained(\"facebook/wav2vec2-lv-60-espeak-cv-ft\")\n",
    "model_P = AutoModelForCTC.from_pretrained(\"facebook/wav2vec2-lv-60-espeak-cv-ft\")\n",
    "\n",
    "from transformers import Wav2Vec2ForCTC, Wav2Vec2Processor\n",
    "processor = Wav2Vec2Processor.from_pretrained(\"facebook/wav2vec2-large-960h\")\n",
    "model = Wav2Vec2ForCTC.from_pretrained(\"facebook/wav2vec2-large-960h\")"
   ]
  },
  {
   "cell_type": "code",
   "execution_count": null,
   "metadata": {},
   "outputs": [],
   "source": [
    "arpabet_to_ipa={\n",
    "    '<pad>': '<pad>',\n",
    "    '<unk>': '<unk>',\n",
    "    '<s>': '<s>',\n",
    "    '</s>': '</s>',\n",
    "    'AA0': 'ɑ',\n",
    "    'AA1': 'ɑ',#ː\n",
    "    'AA2': 'ɑ',\n",
    "    'AE0': 'æ',\n",
    "    'AE1': 'æ',\n",
    "    'AE2': 'æ',\n",
    "    'AH0': 'ə',\n",
    "    'AH1': 'ʌ',\n",
    "    'AH2': 'ʌ',\n",
    "    'AO0': 'ɔ',\n",
    "    'AO1': 'ɔ',#ː\n",
    "    'AO2': 'ɔ',\n",
    "    'AW0': 'aʊ',\n",
    "    'AW1': 'aʊ',\n",
    "    'AW2': 'aʊ',\n",
    "    'AY0': 'aɪ',\n",
    "    'AY1': 'aɪ',\n",
    "    'AY2': 'aɪ',\n",
    "    'B': 'b',\n",
    "    'CH': 'tʃ',\n",
    "    'D': 'd',\n",
    "    'DH': 'ð',\n",
    "    'EH0': 'ɛ',\n",
    "    'EH1': 'ɛ',\n",
    "    'EH2': 'ɛ',\n",
    "    'ER0': 'ɚ',\n",
    "    'ER1': 'ɚ',\n",
    "    'ER2': 'ɚ',\n",
    "    'EY0': 'eɪ',\n",
    "    'EY1': 'eɪ',\n",
    "    'EY2': 'eɪ',\n",
    "    'F': 'f',\n",
    "    'G': 'ɡ',\n",
    "    'HH': 'h',\n",
    "    'IH0': 'ɪ',\n",
    "    'IH1': 'ɪ',\n",
    "    'IH2': 'ɪ',\n",
    "    'IY0': 'i',\n",
    "    'IY1': 'i',#ː\n",
    "    'IY2': 'i',\n",
    "    'JH': 'dʒ',\n",
    "    'K': 'k',\n",
    "    'L': 'l',\n",
    "    'M': 'm',\n",
    "    'N': 'n',\n",
    "    'NG': 'ŋ',\n",
    "    'OW0': 'oʊ',\n",
    "    'OW1': 'oʊ',\n",
    "    'OW2': 'oʊ',\n",
    "    'OY0': 'ɔɪ',\n",
    "    'OY1': 'ɔɪ',\n",
    "    'OY2': 'ɔɪ',\n",
    "    'P': 'p',\n",
    "    'R': 'ɹ',\n",
    "    'S': 's',\n",
    "    'SH': 'ʃ',\n",
    "    'T': 't',\n",
    "    'TH': 'θ',\n",
    "    'UH0': 'ʊ',\n",
    "    'UH1': 'ʊ',\n",
    "    'UH2': 'ʊ',\n",
    "#    'UW': 'uː',\n",
    "    'UW0': 'u',\n",
    "    'UW1': 'u',#ː\n",
    "    'UW2': 'u',\n",
    "    'V': 'v',\n",
    "    'W': 'w',\n",
    "    'Y': 'j',\n",
    "    'Z': 'z',\n",
    "    'ZH': 'ʒ',\n",
    "}"
   ]
  },
  {
   "cell_type": "code",
   "execution_count": 2,
   "metadata": {},
   "outputs": [],
   "source": [
    "human_result_path=r\"..\\data\\test.xlsx\"\n",
    "human_result = pd.read_excel(human_result_path)\n",
    "human_result_1a=human_result[human_result[\"Experiment\"]==\"1a\"]"
   ]
  },
  {
   "cell_type": "code",
   "execution_count": 39,
   "metadata": {},
   "outputs": [],
   "source": [
    "talkersets=list(set([j for i in set(human_result_1a[\"TrainingTalkerID\"]) for j in i.split(\", \")]))"
   ]
  },
  {
   "cell_type": "code",
   "execution_count": 33,
   "metadata": {},
   "outputs": [],
   "source": [
    "set1_list=[0,1,2,3,4,5,6,7,8,9,10,12,13,14,15,16]\n",
    "set2_list=[17,18,19,20,21,22,24,25,26,27,28,29,30,31,37,40]"
   ]
  },
  {
   "cell_type": "code",
   "execution_count": 35,
   "metadata": {},
   "outputs": [],
   "source": [
    "def get_training_paths(TrainingTalkerID,all_path):\n",
    "    path_list=[]\n",
    "    TalkerID=[]\n",
    "    for each_ID in TrainingTalkerID.split(\", \"):\n",
    "        if each_ID[:3]==\"CMN\":\n",
    "            TalkerID.append(f\"ALL_{each_ID[-3:]}_M_CMN_ENG_HT1\")\n",
    "        else:\n",
    "            TalkerID.append(f\"ALL_{each_ID[-3:]}_M_ENG_ENG_HT1\")\n",
    "    \n",
    "    for each_path in TalkerID:\n",
    "        for i in all_path:\n",
    "            if each_path in i:\n",
    "                path_list.append(i)\n",
    "                break\n",
    "    return path_list\n",
    "def get_pathset(paths):\n",
    "    return [os.path.join(dir, each_file) for dir, mid, files in os.walk(paths) for each_file in files if each_file.endswith(\".wav\")]\n"
   ]
  },
  {
   "cell_type": "code",
   "execution_count": null,
   "metadata": {},
   "outputs": [],
   "source": []
  },
  {
   "cell_type": "code",
   "execution_count": 81,
   "metadata": {},
   "outputs": [
    {
     "name": "stderr",
     "output_type": "stream",
     "text": [
      "100%|██████████| 16477/16477 [00:00<00:00, 1568034.37it/s]\n"
     ]
    }
   ],
   "source": [
    "keyword_loc=human_result_1a.columns.get_loc(\"Keyword\")\n",
    "sentenceID=human_result_1a.columns.get_loc(\"Sentence\")\n",
    "sentence_keyword={}\n",
    "for each_ in tqdm.tqdm(human_result_1a.values):\n",
    "    sentence_name=each_[sentenceID][:-1].lower()\n",
    "    if sentence_name not in sentence_keyword.keys():\n",
    "        sentence_keyword[sentence_name]=[]\n",
    "    if each_[keyword_loc] not in sentence_keyword[sentence_name]:\n",
    "        sentence_keyword[sentence_name].append(each_[keyword_loc])"
   ]
  },
  {
   "cell_type": "code",
   "execution_count": 97,
   "metadata": {},
   "outputs": [
    {
     "data": {
      "text/plain": [
       "{'the shoes were very dirty': ['shoes', 'were', 'very', 'dirty'],\n",
       " 'the wife helped her husband': ['wife', 'helped', 'husband'],\n",
       " 'the bananas are too ripe': ['bananas', 'are', 'too', 'ripe'],\n",
       " 'the car is going too fast': ['car', 'going', 'too', 'fast'],\n",
       " 'big dogs can be dangerous': ['big', 'dogs', 'be', 'dangerous'],\n",
       " 'he grew lots of vegetables': ['grew', 'lots', 'vegetables'],\n",
       " 'she argues with her sister': ['argues', 'sister'],\n",
       " 'the family likes fish': ['family', 'likes', 'fish'],\n",
       " 'the player lost a shoe': ['player', 'lost', 'shoe'],\n",
       " 'the kitchen window was clean': ['kitchen', 'window', 'was', 'clean'],\n",
       " 'the picture came from a book': ['picture', 'came', 'book'],\n",
       " \"she's drinking from her own cup\": ['drinking', 'own', 'cup'],\n",
       " 'somebody stole the money': ['somebody', 'stole', 'money'],\n",
       " 'the paint dripped on the ground': ['paint', 'dripped', 'ground'],\n",
       " 'a boy fell from the window': ['boy', 'fell', 'window'],\n",
       " 'the fire was very hot': ['fire', 'very', 'hot'],\n",
       " \"it's time to go to bed\": ['time', 'go', 'bed'],\n",
       " 'they had two empty bottles': ['had', 'two', 'empty', 'bottles'],\n",
       " 'he hung up his raincoat': ['hung', 'raincoat'],\n",
       " 'the dog is eating some meat': ['dog', 'eating', 'some', 'meat'],\n",
       " 'the house had nine bedrooms': ['house', 'had', 'nine', 'bedrooms'],\n",
       " 'the girl is fixing her dress': ['girl', 'fixing', 'dress'],\n",
       " 'the road goes up a hill': ['road', 'goes', 'hill'],\n",
       " 'father forgot the bread': ['father', 'forgot', 'bread'],\n",
       " 'the family bought a house': ['family', 'bought', 'house'],\n",
       " 'the mailman brought a letter': ['mailman', 'brought', 'letter'],\n",
       " 'mother read the instructions': ['mother', 'read', 'instructions'],\n",
       " 'the table has three legs': ['table', 'has', 'three', 'legs'],\n",
       " 'she found her purse in the trash': ['found', 'purse', 'trash'],\n",
       " 'the painter uses a brush': ['painter', 'uses', 'brush'],\n",
       " 'the children waved at the train': ['children', 'waved', 'train'],\n",
       " 'the mother heard the baby': ['mother', 'heard', 'baby']}"
      ]
     },
     "execution_count": 97,
     "metadata": {},
     "output_type": "execute_result"
    }
   ],
   "source": [
    "sentence_keyword"
   ]
  },
  {
   "cell_type": "code",
   "execution_count": 253,
   "metadata": {},
   "outputs": [],
   "source": [
    "\n",
    "\n",
    "#sentence_keyword[sentence_name]\n",
    "\n",
    "\n",
    "def get_phoneme(tg):\n",
    "    tg_sentence = [i for i in tg[0] if i.mark!=\"\"]\n",
    "    tg_word = [i for i in tg[1] if i.mark!=\"\" and i.mark!=\"sp\"]\n",
    "    phoneme_list=[]\n",
    "    for x in set_list:\n",
    "        for each_word_tg in tg_word:\n",
    "            if tg_sentence[x].mark.lower() =='a boy fell from a window':\n",
    "                sentence_name='a boy fell from the window'\n",
    "            else:\n",
    "                sentence_name=tg_sentence[x].mark.lower()\n",
    "            key_word=sentence_keyword[sentence_name]\n",
    "            #print(key_word)\n",
    "            for each_key in key_word:\n",
    "                if each_word_tg.minTime >= tg_sentence[x].minTime and each_word_tg.maxTime <= tg_sentence[x].maxTime:\n",
    "                    if each_word_tg.mark.lower()==each_key:\n",
    "                        phoneme_list.append([[each_key,x]]+[i.mark for i in tg[-1] if each_word_tg.minTime<=i.minTime and each_word_tg.maxTime>=i.maxTime and i.mark!=\"\" and i.mark!=\"sp\" and i.mark!=\"sil\"])\n",
    "    return phoneme_list\n",
    "                    \n"
   ]
  },
  {
   "cell_type": "code",
   "execution_count": 266,
   "metadata": {},
   "outputs": [
    {
     "data": {
      "text/plain": [
       "['CMN_M_016',\n",
       " 'CMN_M_021',\n",
       " 'CMN_M_032',\n",
       " 'CMN_M_035',\n",
       " 'CMN_M_037',\n",
       " 'CMN_M_043',\n",
       " 'ENG_M_055',\n",
       " 'ENG_M_066',\n",
       " 'ENG_M_070',\n",
       " 'ENG_M_131',\n",
       " 'ENG_M_133']"
      ]
     },
     "execution_count": 266,
     "metadata": {},
     "output_type": "execute_result"
    }
   ],
   "source": [
    "talkersets=sorted(talkersets)\n",
    "talkersets"
   ]
  },
  {
   "cell_type": "code",
   "execution_count": 265,
   "metadata": {},
   "outputs": [
    {
     "data": {
      "image/png": "[encoded data removed]",
      "text/plain": [
       "<Figure size 640x480 with 2 Axes>"
      ]
     },
     "metadata": {},
     "output_type": "display_data"
    }
   ],
   "source": [
    "phoneme_diff_matrix=[]\n",
    "for i in talkersets:\n",
    "    taeget=get_phoneme(textgrid.TextGrid.fromFile(get_training_paths(i,all_path)[0][:-3]+\"TextGrid\"))\n",
    "    each_phoneme_matrix=[]\n",
    "    for j in talkersets:\n",
    "        now=get_phoneme(textgrid.TextGrid.fromFile(get_training_paths(j,all_path)[0][:-3]+\"TextGrid\"))\n",
    "        count=0\n",
    "        for _,i in enumerate(now):\n",
    "            if i != taeget[_]:\n",
    "                count+=1\n",
    "        each_phoneme_matrix.append(count)\n",
    "    phoneme_diff_matrix.append(each_phoneme_matrix)\n",
    "\n",
    "plt.imshow(phoneme_diff_matrix, cmap='viridis')  \n",
    "plt.colorbar()  \n",
    "plt.title(\"Matrix Heatmap\") \n",
    "plt.xlabel(\"Talkers\") \n",
    "plt.ylabel(\"Talkers\") \n",
    "plt.show()  "
   ]
  },
  {
   "cell_type": "code",
   "execution_count": 280,
   "metadata": {},
   "outputs": [
    {
     "data": {
      "text/plain": [
       "['CMN_M_016',\n",
       " 'CMN_M_021',\n",
       " 'CMN_M_032',\n",
       " 'CMN_M_035',\n",
       " 'CMN_M_037',\n",
       " 'CMN_M_043',\n",
       " 'ENG_M_055',\n",
       " 'ENG_M_066',\n",
       " 'ENG_M_070',\n",
       " 'ENG_M_131',\n",
       " 'ENG_M_133']"
      ]
     },
     "execution_count": 280,
     "metadata": {},
     "output_type": "execute_result"
    }
   ],
   "source": [
    "talkersets"
   ]
  },
  {
   "cell_type": "code",
   "execution_count": 254,
   "metadata": {},
   "outputs": [
    {
     "name": "stdout",
     "output_type": "stream",
     "text": [
      "ENG_M_070\n",
      "ENG_M_055\n",
      "[['were', 3], 'W', 'ER0'] [['were', 3], 'W', 'ER1']\n",
      "[['fire', 6], 'F', 'AY1', 'R'] [['fire', 6], 'F', 'AY1', 'ER0']\n"
     ]
    }
   ],
   "source": [
    "taeget=get_phoneme(textgrid.TextGrid.fromFile(get_training_paths(talkersets[0],all_path)[0][:-3]+\"TextGrid\"))\n",
    "print(talkersets[0])\n",
    "talker_new=talkersets[2]\n",
    "print(talker_new)\n",
    "new=get_phoneme(textgrid.TextGrid.fromFile(get_training_paths(talker_new,all_path)[0][:-3]+\"TextGrid\"))\n",
    "for _,i in enumerate(new):\n",
    "    if i != taeget[_]:\n",
    "        print(i,taeget[_])\n",
    "        "
   ]
  },
  {
   "cell_type": "code",
   "execution_count": 284,
   "metadata": {},
   "outputs": [
    {
     "name": "stdout",
     "output_type": "stream",
     "text": [
      "['..\\\\data\\\\raw\\\\ALL_CMN_ENG_HT1\\\\ALL_021_M_CMN_ENG_HT1.wav']\n"
     ]
    }
   ],
   "source": [
    "all_path = get_pathset(r\"..\\data\\raw\")\n",
    "current_file=get_training_paths(talkersets[1],all_path)#change here\n",
    "print(current_file)\n",
    "speech=AudioSegment.from_wav(current_file[0])\n",
    "tg = textgrid.TextGrid.fromFile(current_file[0][:-3]+\"TextGrid\")\n",
    "tg_sentence_mark = [i.mark.lower() for i in tg[0] if i.mark!=\"\"]\n",
    "tg_sentence = [i for i in tg[0] if i.mark!=\"\"]\n",
    "set_list=set1_list+set2_list"
   ]
  },
  {
   "cell_type": "code",
   "execution_count": null,
   "metadata": {},
   "outputs": [],
   "source": []
  },
  {
   "cell_type": "code",
   "execution_count": 286,
   "metadata": {},
   "outputs": [
    {
     "data": {
      "text/plain": [
       "['player', 'lost', 'shoe']"
      ]
     },
     "execution_count": 286,
     "metadata": {},
     "output_type": "execute_result"
    }
   ],
   "source": [
    "#sentence_number\n",
    "tg_sentence = [i for i in tg[0] if i.mark!=\"\"]\n",
    "tg_sentence=tg_sentence[set_list[4]]#change here\n",
    "if tg_sentence.mark.lower() =='a boy fell from a window':\n",
    "    sentence_name='a boy fell from the window'\n",
    "else:\n",
    "    sentence_name=tg_sentence.mark.lower()\n",
    "sentence_keyword[sentence_name]"
   ]
  },
  {
   "cell_type": "code",
   "execution_count": 287,
   "metadata": {},
   "outputs": [
    {
     "name": "stdout",
     "output_type": "stream",
     "text": [
      "['..\\\\data\\\\raw\\\\ALL_CMN_ENG_HT1\\\\ALL_021_M_CMN_ENG_HT1.wav']\n",
      "the player lost a shoe\n",
      "player\n",
      "['p', 'l', 'eɪ', 'ɚ']\n",
      "['P', 'L', 'EY1', 'ER0']\n"
     ]
    },
    {
     "data": {
      "text/html": [
       "\n",
       "                    <audio controls>\n",
       "                        <source src=\"data:audio/mpeg;base64,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\" type=\"audio/mpeg\"/>\n",
       "                        Your browser does not support the audio element.\n",
       "                    </audio>\n",
       "                  "
      ],
      "text/plain": [
       "<pydub.audio_segment.AudioSegment at 0x2104c29c100>"
      ]
     },
     "execution_count": 287,
     "metadata": {},
     "output_type": "execute_result"
    }
   ],
   "source": [
    "print(current_file)\n",
    "print(sentence_name)\n",
    "key_word=sentence_keyword[sentence_name][0]\n",
    "print(key_word)\n",
    "tg_word = [i for i in tg[1] if i.mark!=\"\" and i.mark!=\"sp\"]\n",
    "for each_word_tg in tg_word:\n",
    "    if each_word_tg.minTime >= tg_sentence.minTime and each_word_tg.maxTime <= tg_sentence.maxTime:\n",
    "        #print(each_word_tg.mark.lower(),key_word)\n",
    "        #[arpabet_to_ipa[i.mark] for i in tg[-1] if each_word_tg.minTime<=i.minTime and each_word_tg.maxTime>=i.maxTime and i.mark!=\"\" and i.mark!=\"sp\" and i.mark!=\"sil\"]\n",
    "        if each_word_tg.mark.lower()==key_word:\n",
    "            print([arpabet_to_ipa[i.mark] for i in tg[-1] if each_word_tg.minTime<=i.minTime and each_word_tg.maxTime>=i.maxTime and i.mark!=\"\" and i.mark!=\"sp\" and i.mark!=\"sil\"])\n",
    "            print([i.mark for i in tg[-1] if each_word_tg.minTime<=i.minTime and each_word_tg.maxTime>=i.maxTime and i.mark!=\"\" and i.mark!=\"sp\" and i.mark!=\"sil\"])\n",
    "            start=each_word_tg.minTime\n",
    "            end=each_word_tg.maxTime\n",
    "            break\n",
    "tg_phonemes = [i for i in tg[-1] if i.mark!=\"\"]\n",
    "speech[start*1000:end*1000]"
   ]
  },
  {
   "cell_type": "code",
   "execution_count": 297,
   "metadata": {},
   "outputs": [
    {
     "name": "stdout",
     "output_type": "stream",
     "text": [
      "['..\\\\data\\\\raw\\\\ALL_CMN_ENG_HT1\\\\ALL_021_M_CMN_ENG_HT1.wav']\n",
      "the player lost a shoe\n",
      "lost\n",
      "['l', 'ɔ', 's', 't']\n",
      "['L', 'AO1', 'S', 'T']\n"
     ]
    },
    {
     "data": {
      "text/html": [
       "\n",
       "                    <audio controls>\n",
       "                        <source src=\"data:audio/mpeg;base64,SUQzBAAAAAAAI1RTU0UAAAAPAAADTGF2ZjU4LjI5LjEwMAAAAAAAAAAAAAAA//NwwAAAAAAAAAAAAEluZm8AAAAPAAAAOAAAF5EADBAQFRUZGR0iIiYmKysvLzQ4ODw8QUFFSkpOTlNTV1dbYGBkZGlpbW1ydnZ7e39/g4iIjIyRkZWVmp6eoqKnp6ursLS0ubm9vcHGxsrKz8/T09jc3ODg5eXp6e7y8vf3+/v/AAAAAExhdmM1OC41NAAAAAAAAAAAAAAAACQEBwAAAAAAABeRZdzAMwAAAAAAAAAAAAAAAAD/80DEABRJLmgNTzAAhWBOC4KhrJWIWGrEPJeZDI3nOW801G/vr/N73/u7JkwcmmYAwGFp7ERG//tH///7RF34iIw8ABCA0H3g+D4P/g+D7/4P5Q5//5QMfB9/6wfPqrEkK1bZJXLbHP/zQsQJFtGi3l+PQAK220WgAoQTsEiMMjAgVC11nTjt1NH3RhQ85xwgjRsiRBgkIEBSwJLZV+C637na7aqSq44skmonmBv8wVLtUXfFRx38zMwZyN1jvUGuiFW//9H6qo0nK2nGpILRH//zQMQJFqlWyl/POAIF2MPUI5nWDNLZlTiKHgW+BCfwnJkzPfthOUEiFixiDa6PR9dGoua/30MofUxjTD5r6kxWnWHzwYB9W04QQgRChcDBZP//0LYAkA+vSEHUapZFiIFqAEAcAgH///NCxAkWMb6yXsqQ8F2vfi9c7+Ly2ascYiMAA0s60ZltQwNU+T1v3amCjQWyc4HBNMYleUbM70bV6fq+3Ye2ZG1fXlLU34olB2fZAoVATiO5BdIW6qv///+4tTeh1hiGa4f/G15totvK//NAxAwW0gKtbsLKyGnfyxfezk2VAytVJFrjgQ0reCacwFRroKhB3oO0F8/ff99NUxmg94vq2+rYpq1SYmsJi7qLbPv87uNBixAerpn9nYqVsnVSTiP/qJhg+asV74EPQVZBn2I/fJD/80LECxYZrr2We0TqlrpfFqn2N2fMhebWEcVWGFnukAf3hWF7IT0s6QnUWaArGyPVv2z6aDZ9eumjNOWmgNriVkfEsNFD39/oXsJqCCZ8+GwK8ow/r1QMWJWqkkRJMlSKmtGPBCCVsIr/80DEDhdCvs5eeoTOGtFXI6K4NjHXCV9xc9UHYVABixuOQzEAp4LLVFON8o9AuGajfVs2c0gnJrzdvro2GeDGy6fppoBtV//2LX/+mqb6vYTDJc8XcfnRA9Oty5VUCDwGjgYIR/dDOv/zQsQME5metjYTyhybSAodZLfXRUJSRJk83zscpHIH7Nsdt+Ey1H5Hq++nbf/roOqJadtdGyc1TNEyjAVFGJ+sVWeKf//rg0LTgwaylakVb4AKAWIBmSKuEcKB2YRf42SaJfqYxLSj9v/zQMQZEkCmuZYL1hbwRKzEd6+LiHtEoObb0oKDwXUTacO+LHCQlIM/QJjRIu1KsivWB19Ber//9E8lxaylAerKSimJQJlb7aanwX6Jg9necIn2P5akofS52UCp1UGqMVzC6NlScj5c//NCxCsUiZ6xdnoEyrlzPylAhS0XWhn39H5ndWFCICByd50kIBv9ABu093/7yj/lDZpJlCrVEpu6yJyQXJYHD8ab4rWU3t8Neq8rXDcC1XscVa8dGLcJf//8nlNC/llc/jckv/+SMkHG//NAxDQTslrBvkBHcs3/85ogQQ7w8XeXw+QJy47U7LjnQxE4PvxATgpEAJJICCs1AFnLzOrf/y+b8vy9lWXP///9efTy5qWyl2U7ZjPHuctyGwRARVAB3QEIEtbLk50eKe9pmRfwnav/80LEQBODWqpcKEcdvvneSLvYIUwYs676AAxAC+Ih21BBC///9aSMZNSfUq6/LYU7JA8NvVEzb5C6///+5y8u77+zvm40BSGD2BGbm9zVXKCgYwZYVuQplBOmHKL+5JRys9X77IvQklj/80DEThNCZqp6GEdVl2b77f6xuMYgIQCiHMAqpxvmiDJm6FnGmXb4AmEEF6FXRcAABDiAHBOBHZIgtbBUpUEygnoBX55QFOJIdHc5vzy/+l2rkp3X/TkaN4ZYh3Z7oBAH/XIzTUnHHv/zQsRcEuCK5v4ORg5fphSL5d6hdwDUdtrZeOXYRBmk2Zh+5AJBqnuP5wTB0Rn4gFdkvj04wevL4bRE/s2M9u32D7PEEDDU4QPol//0/lIQKUYfp8WCYzaq1vFiMplAgcXqeYGtaRPvAv/zQMRsFHEquxzDDMy9nZQML1Hp5gmH2Bwt6AY0HgKdiEA2fP12LLYxHH3GfGymvNLJHAgsa5PINOaN9lMZc47vv79smyYFAHKgoqEEtYzVjaSqZNuXbBFzQMjKCxsQqxk5cFX5GFoO//NCxHUXGZ6ViMMMzcVx+LtVozYMq2+uummhpx9Beox4xaNuRP+iqawwXGBYrPYbUVBWCoKkg6IUVCIXJZUbqBU7/ukITLstLkDAjKW9o+iMBqdJAm+4QjNpgJWMpjCQWNIyURSAiZF4//NAxHQU+ZrSPmsKZtcj+CxIo96B2VFfg4oWZmVLRa9qa7gWvuepiVqYHoMEdKv69WJFRQGxjyN3+tx17RUJCUt///iwSsAQ4NNuAC/TCr5B0FQNWYE70rSHceq3W34v7zXfxGATB5X/80LEexeBipD+eZCsoAsy/KPzW/zlQx1jbycgX8b/4fbRm/6+t++Xfy7v2fbQ/gypTfSBa8soIkHxPyH1gc2IC7nYDeKvTT5nIhASiI+Ego3LzN6+hM9OGQQlMpP+Lf/fsiQNZ+SBtQ7/80DEeRWqmpmWWEz81HzGNKPLnNqqHNdXR9j3syttUMRKuXi8cOSpu0aJq3PM0vyWlxuj8jxKyd9Enwh4Pj88LyNFJQQhgQtjFkOYIVqImyFPjZxrP9iiChBE255aRHrq07xp0ipD/f/zQsR9HosWkbYw0F2/+eLLIeVlN8KxJ21MGE57r47oZk+V++z34trDOwtFoe/Jz3USuksK57/GfbfslcNf++/7r/zjotz/ft/mINLPdI8t/GZEMt76nj/7+0BpiKiIaFI4b+oJQ1wo2//zQMReE7g6rlQIBgFiXx4T5WixAITDA6xsRjsty4hZGx3zPMwT+aKajYs0WOjCbgaeRahjos5MytSEvm6xXdqL5fYT7/KLSNVvsA6GKVAJiaqHWIkiK0ajaDkNR6KFVVZMyjmdzE8c//NCxGoT8UKzGhBGoIXAoHXguLhkWIAJ4NhfcqgOgQKXB1k8Qj6mukGthb21oaxDt0W5nQWMqdn0qOg6PmDKpV5dYKuqu7hdZJzCXJ3oTu6x6RXgLFOUIY+ebTMG5krdRo7PTAuTjaC3//NAxHYTsLqzGAgGBDzAoARp4XcbQBjgaZagWUELxaxLb7Lri6FMfeN9Ps36ERCo1TGEqSKlOFamqXY+qYTs02AEIqfZMziVECfElzBELkzaHoe4da+j5J/xNh4QOAAkVL6nkWsKFnD/80LEghPhGr8cCAYAuVMPFWkayIF2SOu0JU6RZUBEyMp1f96+dhYUA1l61TeIiIQ1Htrls1LkVw4FwTt/I00klhjeSAiWjgOV1Vi5EmRm/XR1ZG+xGPiQKKkZUNpWwmZDQx0WGJHn9RL/80DEjhQQ6q8UYYYoKtX1Kja507dK//6PTou//1c8W0rVe18rRYLlCzmtDsJAyTZmAFgLWz+4oGgZF6Zn0Uvasx1QogYpE6YyfdQHNmeZfx+rkpq7t5/86oIZlxmWc3v7TLSJ3u/////zQsSYFFCeowjLEmT//egb2M9CVbH5tHbZJcJBH3UKEW/4bxShyEND9GbbTYGrmYgK70hSEjZNb2mpMrcf9QBV59U6V2ybuw5Y+98JVYIK3dsT/1WAGmmz//tf+lhWPIayCn61AwYBtP/zQMSiE1EiplzSRqgioABdiLAtc/RBGEUOTpGCOipj5ew/lzJoT68Q7+SZ3P0UEfePvB0c29unK//obo2gt6B3+5m0F/3TzMk/////rJIoWA5BagBAEbqQGAfnUQ/SKt4w2Tjug05s//NCxK8T4QLWXnrGrinvO/I0x6yBc12EqEb5wzvAxlU7VOBO0uzOulianM6nI9U/PWhP7Kxjgi3Ss5Ay/3Wfp//9X7HF5LeoRAbWppuWUoQMatQZZtfIY5lNbiSMsW5VOcW6p8tKKWET//NAxLsSma6VvpoE6G4xVwTXL3QUOHYi9aPOJqkpUnGJOyElXTU1r////co8KSwOrf//2X3PFK0L//60FS1NiLbjk2ub2kDnpThRstGwrLoYrDx+RrEp6gljqWWiIfP7Kk5EhHpbWAb/80LEyxRBro48ywSIe5k6nA9IOBoFOgyGnHwuKCUBFjXxRYWNRcNO9ZFzG/0OWUgVJoUeVc/R/f8WEw9nGBL/CQEWLDdxwz5t1CLDQcpgSTFW5pPLWhuRP7WaQqqumzLKbLM4jiUEgQr/80DE1hQpsrG+egbCqNlwmX9LyqpdS1qQQ2h26G1W7f/cQgIahmYKRR770qT/eol/We0f71zMce5xJ0nVKCslB2bFncZFoakOBML5QGOCwdHi/sVuMh+o09vbbS21s37PO8CkCARnb//zQsTgFnjiwl57BlJwFXE8dZV7PIlRLVZVcqZ5GS9vP/0Qg9qVSIlBFl/2dGdFajen+uzrfpomlVZfKm7o+3qTXK9nlt/XGkxaVUkuB0UEX02QijcJJC7biS4laeRkV9aZQpK0vBpsRf/zQMTiFomugFbAxPBt6hlu7LbNdmCMwSMEav3NyIjJTK/tqG7KQOoHMittTIk//dyOXSiTOMif///p/3dv///9v/99vT96PlnEkDtLAlsG6Q2XDHprYTUkSLykWIcLLminllpaZ3Y3//NCxOIZ61Z8fsjK9ddK407M3qtiUdUnO1OeaWE4etcen//8XyvK1Ne3LXcRc/xVfFf3fSDRo0IDrSamYVSRRrv//////u/radSqZC2Og1jGiFLczCzTnZyZMwSJipWmQksCZQUy1fJM//NAxNYXu2J0fsDE8VUBoIYTyKXrsS7fk2E3Y4w7F0rbX9d0RXszbPPt16/8TK5Y4VBw6W6TlmIFf//9P///7/3DRNVo1es/FMICxv8Zj8JBnFMTbchgBl1KWSWoKYL8jQ8nm6ip4Hv/80LE0hYJslhQ1hBMkI3S5sUIFEHcdtlPt69dcjk+yTxpRkK8pXMcX//1/k7B0ZroK2NiAeIB0Zb//1f//84s5/LKHX5IMOlRB6C6odMm4aMpwA2WrXYqUePhDEma3VSqWvNJGhDCxPv/80DE1RUZtkwI2JEQ9RgwMlvfzT/tKGzH28M451SBCnRzlX/+iVUsSHAFKq///951aqqv/wkFPenTb26GvvsIpJojioVMAUVi7cRGJIDiC9Y6x8CxsudEXMxWPNe3v/zIn1RjOyEa+v/zQsTbFlmuUBDQkOwpSHFFUj+ljv//4ijXeqfT//eS0+6pYagFMIgztlMeNEijAwAv1HIZ5dYw/UcnqsYhhw3OmXlcmjxhsQnwwh2IbRkE0sJ0oMp0xiX9XC1J0pk4MOFwgIVmjgMpH//zQMTdFLmKWDTIxNTaUOpQq4H1ORCCl1LeLqU+MYQc/YlDNxBO/p9GyrVQUmTQRRUJL8UsDy6RQ/GpC89pvuzF4WI7ByIiAl9Icw7RICbpnhgEg5hOHHKJq508eRRMjqKjM6butjFJ//NCxOUQ8TpQFNMETCKjNE0L6Tqbnk9GkmgndSnZS1tW11qrZTJmDGzF0mE8msrZbqta7Gi303u8cAw50oEuSw9SSEyHqVD2Mfq//zzsUE0DRb7ny0eAjYywKIA5w5YJwE/Kx4DzJYeB//NAxP0ZOP4wAVtIAHP//+7X//+TB7jgJAvp1Qiabkv4A9DMixx9PIp+5cdYwfIFD3YKx/5Lf4i7LOGepjxB9KP7kW0mcg89lpGnwzgLk1BZl7u13NT2S4YjSA+cj9X+z1EPBL1CdWX/80LE8ymL2kABmGgAZlrcBa7mthtRMd3AGgGAkyOQRSXKPafT0QeLOR9B4ukhNaCQEODl5UBbzpE6WWLEi3Txi32kTt6h+/WzukQ2GiIaez7NMREr6OeU80oAq6lgSrEzFpCkW3adBwn/80DEqBS4imD9xxABhy5dBylQFRgMjBqXptkabqQ4zyG1Ho6f1051mpKdPQ2N+0xNf/9b2LRVTEFNRTMuMTAwgA0sEjCRFwfIRYF1OM0lLLtfY/rCM6wINUzTPSyLI3+ujokCHVShoP/zQsSwEYCSOADBmBgXIfYMe61+99mpmuryej7dZj6pNQmxlGnCoRFYeBZElK0JEkPRZIZKbFVDdLNQZZciDbtkCgYM9e+X8OvSzHmnAT8IpsgPBF66sAcV8oW0mLz1f7MxfitEm4EGPv/zQMTGDgiSPFR5hgxc1isZtdXnyuiXLNjMOxFcppqbxgX0ZCCrVOnVlabVFoUihA9DNZZEwUMRTGzWkDJiTowuairEhSEKOmcyAp/JBObd1fuoCP/zb94thM1bbX6Yt4zuap+xeDDf//NCxN8O4Io0NHmGLNtjV1z6LIYVhVPXGcC11HC/MRe3n89+ertT7msjeAlCgwh5QNUYIL3wiUAHYmwiE2X5wkSLxEEc4UTM5dyfhFfdzL85Yl9POX+TiH/TjmlFpXR9KLcPiODx//uO//NAxP8ZkT4YAMJGOft0+1nZv/OO93v/6IbwxhdIL+v+lvnDR8+qf/5KCk3I0AFHjsa1nGMVX3/2f+fpRLsZXVWuVFV0RF3V1REZmZyLVy5jl/5evpjZ/bXtsqLAIRVHgmG6yARIoxX/80LE8xZ4shwKwYY1i4KGwblQ8ZfgOERUHR1evTiWT3zA4c19IojxoSK25h31i9+6+yyGOm/y+2nTDnoBi/4Tu7gCiyRXcOL/+deCM/D0lYGd9R8/onCzH/PcyylDYw7CAOwbu8lGQMH/80DE9RahyjQUeYYNUTjMrJ0+In8+79P6db/3zJXctzGjDQxuRfnhBEnpciVQrMA4q8xMhk44OQNrtMtEtVMkYyffaSyVkhAOU4owsQEgoUFcxQjRpMl0TKlEhGLoChlpibEJ55lEd//zQMT1IBs+XD4TB61kjDpo4zXN4ghpAZRmjqGUdsnLWkDD//RvHX/6/8n7pIZEdnSaFFBSMBsv6F0z6dZ5fr6vaUy49SpS/+Pj5D93XVP/78d/ErUXv1nSIbVj2w0mZq1rpTIaOmMa//NCxM8h615sAEDTTL/MMerj1d25M3p8dSdAjz08lOaTumB4eIl4bWohQ1yOwbOOj1zxQRnAJoNuCUBBoAiiiguh4fPEJ+RDt4du3fgQc0UGK3Bl1dOrsoLm3HyQIHDAJh8TmCA9pqJX//NAxKMW42aVlBBNUKHITQKIRLxdBAoEKtdt9ttrUvBAT18TQ5YW+BBPpZiyuFJQjRAhHTOoqJrER2JwgFEpRg0JBpYgLkygYiP9KhlT1DbgJ/mttcUKKJBMCxqKZwP7voz5wPIcIVH/80LEohSQjqcYGAYAxlUQAIScUAOnnAbzt8yT/LqRz8pHT5/WvyMPk6brZWv5eMCsTJsOQRnoqV/Pnz5QLJGB8xDw9J0V0v/5Ax9CEIn0YwNUhc0MAMAlQY4qDJVrYySMSkk6kl//xGD/80DEqxQI2sZbSBgCJxC0YwIALcOSLKD4Rei4w90rFgS8OkMklnEnRpFExQdJE5//4tArYDoEyDAABe//5kbENJkwM0xBTUUzLjEwMFVVVVVVVVVVVVVVVVVVVVVVVVVVVVVVVVVVVf/zQsS1JEOGaPGFiABVVVVVVVVVVVVVVVVVVVVVVVVVVVVVVVVVVVVVVVVVVVVVVVVVVVVVVVVVVVVVVVVVVVVVVVVVVVVVVVVVVVVVVVVVVVVVVVVVVVVVVVVVVVVVVVVVVVVVVVVVVf/zQMSAAAADSAHAAABVVVVVVVVVVVVVVVVVVVVVVVVVVVVVVVVVVVVVVVVVVVVVVVVVVVVVVVVVVVVVVVVVVVVVVVVVVVVVVVVVVVVVVVVVVVVVVVVVVVVVVVVVVVVVVVVVVVVVVVVV\" type=\"audio/mpeg\"/>\n",
       "                        Your browser does not support the audio element.\n",
       "                    </audio>\n",
       "                  "
      ],
      "text/plain": [
       "<pydub.audio_segment.AudioSegment at 0x210978a8d90>"
      ]
     },
     "execution_count": 297,
     "metadata": {},
     "output_type": "execute_result"
    }
   ],
   "source": [
    "print(current_file)\n",
    "print(sentence_name)\n",
    "key_word=sentence_keyword[sentence_name][1]\n",
    "print(key_word)\n",
    "tg_word = [i for i in tg[1] if i.mark!=\"\" and i.mark!=\"sp\"]\n",
    "for each_word_tg in tg_word:\n",
    "    if each_word_tg.minTime >= tg_sentence.minTime and each_word_tg.maxTime <= tg_sentence.maxTime:\n",
    "        #print(each_word_tg.mark.lower(),key_word)\n",
    "        #[arpabet_to_ipa[i.mark] for i in tg[-1] if each_word_tg.minTime<=i.minTime and each_word_tg.maxTime>=i.maxTime and i.mark!=\"\" and i.mark!=\"sp\" and i.mark!=\"sil\"]\n",
    "        if each_word_tg.mark.lower()==key_word:\n",
    "            print([arpabet_to_ipa[i.mark] for i in tg[-1] if each_word_tg.minTime<=i.minTime and each_word_tg.maxTime>=i.maxTime and i.mark!=\"\" and i.mark!=\"sp\" and i.mark!=\"sil\"])\n",
    "            print([i.mark for i in tg[-1] if each_word_tg.minTime<=i.minTime and each_word_tg.maxTime>=i.maxTime and i.mark!=\"\" and i.mark!=\"sp\" and i.mark!=\"sil\"])\n",
    "            start=each_word_tg.minTime\n",
    "            end=each_word_tg.maxTime\n",
    "            break\n",
    "tg_phonemes = [i for i in tg[-1] if i.mark!=\"\"]\n",
    "speech[start*1000:end*1000+1000]"
   ]
  },
  {
   "cell_type": "code",
   "execution_count": null,
   "metadata": {},
   "outputs": [
    {
     "data": {
      "text/plain": [
       "['ð', 'ə', 'p', 'l', 'eɪ', 'ɚ', 'l', 'aʊ', 's', 'ə', 'ʃ', 'ɹ', 'ʊ']"
      ]
     },
     "execution_count": 296,
     "metadata": {},
     "output_type": "execute_result"
    }
   ],
   "source": [
    "english_phonemes = ['<pad>', '<unk>', '<s>', '</s>', 'ɑ', 'æ', 'ə', 'ʌ', 'ɔ', 'aʊ', 'aɪ', 'b', 'tʃ', 'd', 'ð', 'ɛ', 'ɚ', 'eɪ', 'f',\n",
    " 'ɡ', 'h', 'ɪ', 'i', 'dʒ', 'k', 'l', 'm', 'n', 'ŋ', 'oʊ', 'ɔɪ', 'p', 'ɹ', 's', 'ʃ', 't', 'θ', 'ʊ', 'u', 'v', 'w', 'j', 'z', 'ʒ']#['<pad>', '<s>', '</s>', '<unk>','p', 'b', 't', 'd', 'k', 'ɡ','m', 'n', 'ŋ', 'f', 'v', 'θ', 'ð', 's', 'z', 'ʃ', 'h', 'tʃ', 'dʒ', 'l', 'ɹ', 'w', 'j',\"i\",\"ɪ\",\"ʊ\",\"u\",\"e\",\"ɜ\",\"æ\",\"ʌ\",\"ɑ\",\"ɒ\",\"eɪ\",\"ɔɪ\",\"oʊ\",\"aɪ\",\"aʊ\"]\n",
    "english_phoneme_dict = {k: v for k, v in processor_P.tokenizer.get_vocab().items() if k in english_phonemes}\n",
    "wave, sr = librosa.load(current_file[0])\n",
    "wave_res = librosa.resample(wave, orig_sr=sr, target_sr=16000)\n",
    "start=round(tg_sentence.minTime*16000)\n",
    "end=round(tg_sentence.maxTime*16000)\n",
    "input=processor(wave_res[start:end],sampling_rate=16000, return_tensors=\"pt\").input_values\n",
    "input=input.to(device)\n",
    "model_P.to(device)\n",
    "with torch.no_grad():\n",
    "    out_encoder1=model_P(input).logits\n",
    "selected=out_encoder1\n",
    "mask = np.ones(selected.shape[-1], dtype=bool)\n",
    "mask[list(english_phoneme_dict.values())] = False\n",
    "selected[:, :, mask] = 0\n",
    "outind=torch.argmax(selected,dim=-1).cpu().numpy()\n",
    "transcription = processor_P.batch_decode(outind)[0].split(\" \")\n",
    "transcription"
   ]
  },
  {
   "cell_type": "code",
   "execution_count": 201,
   "metadata": {},
   "outputs": [
    {
     "name": "stdout",
     "output_type": "stream",
     "text": [
      "['..\\\\data\\\\raw\\\\ALL_CMN_ENG_HT1\\\\ALL_037_M_CMN_ENG_HT1.wav']\n",
      "the shoes were very dirty\n",
      "very\n",
      "['v', 'ɛ', 'ɹ', 'i']\n",
      "['V', 'EH1', 'R', 'IY0']\n"
     ]
    },
    {
     "data": {
      "text/html": [
       "\n",
       "                    <audio controls>\n",
       "                        <source src=\"data:audio/mpeg;base64,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\" type=\"audio/mpeg\"/>\n",
       "                        Your browser does not support the audio element.\n",
       "                    </audio>\n",
       "                  "
      ],
      "text/plain": [
       "<pydub.audio_segment.AudioSegment at 0x2104c287bb0>"
      ]
     },
     "execution_count": 201,
     "metadata": {},
     "output_type": "execute_result"
    }
   ],
   "source": [
    "print(current_file)\n",
    "print(sentence_name)\n",
    "key_word=sentence_keyword[sentence_name][2]\n",
    "print(key_word)\n",
    "tg_word = [i for i in tg[1] if i.mark!=\"\" and i.mark!=\"sp\"]\n",
    "for each_word_tg in tg_word:\n",
    "    if each_word_tg.minTime >= tg_sentence.minTime and each_word_tg.maxTime <= tg_sentence.maxTime:\n",
    "        #print(each_word_tg.mark.lower(),key_word)\n",
    "        #[arpabet_to_ipa[i.mark] for i in tg[-1] if each_word_tg.minTime<=i.minTime and each_word_tg.maxTime>=i.maxTime and i.mark!=\"\" and i.mark!=\"sp\" and i.mark!=\"sil\"]\n",
    "        if each_word_tg.mark.lower()==key_word:\n",
    "            print([arpabet_to_ipa[i.mark] for i in tg[-1] if each_word_tg.minTime<=i.minTime and each_word_tg.maxTime>=i.maxTime and i.mark!=\"\" and i.mark!=\"sp\" and i.mark!=\"sil\"])\n",
    "            print([i.mark for i in tg[-1] if each_word_tg.minTime<=i.minTime and each_word_tg.maxTime>=i.maxTime and i.mark!=\"\" and i.mark!=\"sp\" and i.mark!=\"sil\"])\n",
    "            start=each_word_tg.minTime\n",
    "            end=each_word_tg.maxTime\n",
    "            break\n",
    "tg_phonemes = [i for i in tg[-1] if i.mark!=\"\"]\n",
    "speech[start*1000:end*1000]"
   ]
  },
  {
   "cell_type": "code",
   "execution_count": 202,
   "metadata": {},
   "outputs": [
    {
     "name": "stdout",
     "output_type": "stream",
     "text": [
      "['..\\\\data\\\\raw\\\\ALL_CMN_ENG_HT1\\\\ALL_037_M_CMN_ENG_HT1.wav']\n",
      "the shoes were very dirty\n",
      "dirty\n",
      "['d', 'ɚ', 't', 'i']\n",
      "['D', 'ER1', 'T', 'IY0']\n"
     ]
    },
    {
     "data": {
      "text/html": [
       "\n",
       "                    <audio controls>\n",
       "                        <source src=\"data:audio/mpeg;base64,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\" type=\"audio/mpeg\"/>\n",
       "                        Your browser does not support the audio element.\n",
       "                    </audio>\n",
       "                  "
      ],
      "text/plain": [
       "<pydub.audio_segment.AudioSegment at 0x21050a930d0>"
      ]
     },
     "execution_count": 202,
     "metadata": {},
     "output_type": "execute_result"
    }
   ],
   "source": [
    "print(current_file)\n",
    "print(sentence_name)\n",
    "key_word=sentence_keyword[sentence_name][3]\n",
    "print(key_word)\n",
    "tg_word = [i for i in tg[1] if i.mark!=\"\" and i.mark!=\"sp\"]\n",
    "for each_word_tg in tg_word:\n",
    "    if each_word_tg.minTime >= tg_sentence.minTime and each_word_tg.maxTime <= tg_sentence.maxTime:\n",
    "        if each_word_tg.mark.lower()==key_word:\n",
    "            print([arpabet_to_ipa[i.mark] for i in tg[-1] if each_word_tg.minTime<=i.minTime and each_word_tg.maxTime>=i.maxTime and i.mark!=\"\" and i.mark!=\"sp\" and i.mark!=\"sil\"])\n",
    "            print([i.mark for i in tg[-1] if each_word_tg.minTime<=i.minTime and each_word_tg.maxTime>=i.maxTime and i.mark!=\"\" and i.mark!=\"sp\" and i.mark!=\"sil\"])\n",
    "            start=each_word_tg.minTime\n",
    "            end=each_word_tg.maxTime\n",
    "            break\n",
    "tg_phonemes = [i for i in tg[-1] if i.mark!=\"\"]\n",
    "speech[start*1000:end*1000]"
   ]
  },
  {
   "cell_type": "code",
   "execution_count": 283,
   "metadata": {},
   "outputs": [
    {
     "name": "stdout",
     "output_type": "stream",
     "text": [
      "['..\\\\data\\\\raw\\\\ALL_CMN_ENG_HT1\\\\ALL_016_M_CMN_ENG_HT1.wav']\n",
      "the player lost a shoe\n",
      "lost\n",
      "['l', 'ɔ', 's', 't']\n",
      "['L', 'AO1', 'S', 'T']\n"
     ]
    },
    {
     "data": {
      "text/html": [
       "\n",
       "                    <audio controls>\n",
       "                        <source src=\"data:audio/mpeg;base64,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\" type=\"audio/mpeg\"/>\n",
       "                        Your browser does not support the audio element.\n",
       "                    </audio>\n",
       "                  "
      ],
      "text/plain": [
       "<pydub.audio_segment.AudioSegment at 0x210176d6ee0>"
      ]
     },
     "execution_count": 283,
     "metadata": {},
     "output_type": "execute_result"
    }
   ],
   "source": [
    "print(current_file)\n",
    "print(sentence_name)\n",
    "key_word=sentence_keyword[sentence_name][1]\n",
    "print(key_word)\n",
    "tg_word = [i for i in tg[1] if i.mark!=\"\" and i.mark!=\"sp\"]\n",
    "for each_word_tg in tg_word:\n",
    "    if each_word_tg.minTime >= tg_sentence.minTime and each_word_tg.maxTime <= tg_sentence.maxTime:\n",
    "        if each_word_tg.mark.lower()==key_word:\n",
    "            print([arpabet_to_ipa[i.mark] for i in tg[-1] if each_word_tg.minTime<=i.minTime and each_word_tg.maxTime>=i.maxTime and i.mark!=\"\" and i.mark!=\"sp\" and i.mark!=\"sil\"])\n",
    "            print([i.mark for i in tg[-1] if each_word_tg.minTime<=i.minTime and each_word_tg.maxTime>=i.maxTime and i.mark!=\"\" and i.mark!=\"sp\" and i.mark!=\"sil\"])\n",
    "            start=each_word_tg.minTime\n",
    "            end=each_word_tg.maxTime\n",
    "            break\n",
    "tg_phonemes = [i for i in tg[-1] if i.mark!=\"\"]\n",
    "speech[start*1000:end*1000]"
   ]
  }
 ],
 "metadata": {
  "kernelspec": {
   "display_name": "BayesPCN",
   "language": "python",
   "name": "python3"
  },
  "language_info": {
   "codemirror_mode": {
    "name": "ipython",
    "version": 3
   },
   "file_extension": ".py",
   "mimetype": "text/x-python",
   "name": "python",
   "nbconvert_exporter": "python",
   "pygments_lexer": "ipython3",
   "version": "3.9.18"
  }
 },
 "nbformat": 4,
 "nbformat_minor": 2
}
