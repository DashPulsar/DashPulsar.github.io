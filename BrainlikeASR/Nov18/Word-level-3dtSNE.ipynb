{
 "cells": [
  {
   "cell_type": "code",
   "execution_count": null,
   "metadata": {},
   "outputs": [
    {
     "name": "stderr",
     "output_type": "stream",
     "text": [
      "[nltk_data] Downloading package cmudict to\n",
      "[nltk_data]     C:\\Users\\Alex\\AppData\\Roaming\\nltk_data...\n",
      "[nltk_data]   Package cmudict is already up-to-date!\n"
     ]
    },
    {
     "name": "stdout",
     "output_type": "stream",
     "text": [
      "WARNING:tensorflow:From c:\\Users\\Alex\\anaconda3\\envs\\BayesPCN\\lib\\site-packages\\keras\\src\\losses.py:2976: The name tf.losses.sparse_softmax_cross_entropy is deprecated. Please use tf.compat.v1.losses.sparse_softmax_cross_entropy instead.\n",
      "\n"
     ]
    },
    {
     "name": "stderr",
     "output_type": "stream",
     "text": [
      "c:\\Users\\Alex\\anaconda3\\envs\\BayesPCN\\lib\\site-packages\\huggingface_hub\\file_download.py:1132: FutureWarning: `resume_download` is deprecated and will be removed in version 1.0.0. Downloads always resume when possible. If you want to force a new download, use `force_download=True`.\n",
      "  warnings.warn(\n",
      "Some weights of the model checkpoint at facebook/wav2vec2-lv-60-espeak-cv-ft were not used when initializing Wav2Vec2ForCTC: ['wav2vec2.encoder.pos_conv_embed.conv.weight_g', 'wav2vec2.encoder.pos_conv_embed.conv.weight_v']\n",
      "- This IS expected if you are initializing Wav2Vec2ForCTC from the checkpoint of a model trained on another task or with another architecture (e.g. initializing a BertForSequenceClassification model from a BertForPreTraining model).\n",
      "- This IS NOT expected if you are initializing Wav2Vec2ForCTC from the checkpoint of a model that you expect to be exactly identical (initializing a BertForSequenceClassification model from a BertForSequenceClassification model).\n",
      "Some weights of Wav2Vec2ForCTC were not initialized from the model checkpoint at facebook/wav2vec2-lv-60-espeak-cv-ft and are newly initialized: ['wav2vec2.encoder.pos_conv_embed.conv.parametrizations.weight.original0', 'wav2vec2.encoder.pos_conv_embed.conv.parametrizations.weight.original1']\n",
      "You should probably TRAIN this model on a down-stream task to be able to use it for predictions and inference.\n"
     ]
    },
    {
     "data": {
      "text/plain": [
       "'from transformers import Wav2Vec2ForCTC, Wav2Vec2Processor\\nprocessor = Wav2Vec2Processor.from_pretrained(\"facebook/wav2vec2-large-960h\")\\nmodel = Wav2Vec2ForCTC.from_pretrained(\"facebook/wav2vec2-large-960h\")'"
      ]
     },
     "execution_count": 1,
     "metadata": {},
     "output_type": "execute_result"
    }
   ],
   "source": [
    "from phonecodes import phonecodes\n",
    "from torchtext.data.utils import get_tokenizer\n",
    "from torchtext.vocab import build_vocab_from_iterator\n",
    "from typing import Iterable, List\n",
    "from torch.nn.utils.rnn import pad_sequence\n",
    "from torch.utils.data import DataLoader, Dataset\n",
    "from timeit import default_timer as timer\n",
    "from torch.nn import Transformer\n",
    "from torch import Tensor\n",
    "from sklearn.model_selection import train_test_split\n",
    "import copy\n",
    "import tqdm\n",
    "import librosa\n",
    "import seaborn as sns\n",
    "import torch.nn as nn\n",
    "import torch\n",
    "import torch.nn.functional as F\n",
    "import numpy as np\n",
    "import math\n",
    "import os\n",
    "import pandas as pd\n",
    "import matplotlib.pyplot as plt\n",
    "import textgrid\n",
    "from scipy.spatial.distance import euclidean\n",
    "import plotly.graph_objects as go\n",
    "import pandas as pd\n",
    "import jiwer\n",
    "device = torch.device(\"cuda\" if torch.cuda.is_available() else \"cpu\")\n",
    "import nltk\n",
    "nltk.download('cmudict')\n",
    "from nltk.corpus import cmudict\n",
    "from transformers import AutoProcessor, AutoModelForCTC\n",
    "from phonemizer.backend.espeak.wrapper import EspeakWrapper\n",
    "import soundfile as sf\n",
    "\n",
    "_ESPEAK_LIBRARY = r\"C:\\Program Files\\eSpeak NG\\libespeak-ng.dll\"\n",
    "EspeakWrapper.set_library(_ESPEAK_LIBRARY)\n",
    "processor_P = AutoProcessor.from_pretrained(\"facebook/wav2vec2-lv-60-espeak-cv-ft\")\n",
    "model_P = AutoModelForCTC.from_pretrained(\"facebook/wav2vec2-lv-60-espeak-cv-ft\")\n",
    "\n",
    "\n",
    "from transformers import Wav2Vec2ForCTC, Wav2Vec2Processor\n",
    "processor = Wav2Vec2Processor.from_pretrained(\"facebook/wav2vec2-large-960h\")\n",
    "model = Wav2Vec2ForCTC.from_pretrained(\"facebook/wav2vec2-large-960h\")"
   ]
  },
  {
   "cell_type": "code",
   "execution_count": 150,
   "metadata": {},
   "outputs": [],
   "source": [
    "def get_pathset(paths):\n",
    "    return [os.path.join(dir, each_file) for dir, mid, files in os.walk(paths) for each_file in files if each_file.endswith(\".wav\")]\n",
    "\n",
    "def create_set(audio_dir, df, model, processor):\n",
    "    set1_list=[0,1,2,3,4,5,6,7,8,9,10,12,13,14,15,16]\n",
    "    set2_list=[17,18,19,20,21,22,24,25,26,27,28,29,30,31,37,40]\n",
    "    keywords_dict=get_keywords_dict(df)\n",
    "    model.to(device)\n",
    "    \n",
    "    audio_path=get_pathset(audio_dir)\n",
    "    out_dict={}\n",
    "    \n",
    "    for each_path in tqdm.tqdm(audio_path):\n",
    "        current_talker=os.path.basename(each_path)[:-4]\n",
    "        if current_talker not in out_dict.keys():\n",
    "            out_dict[current_talker]=[]\n",
    "        audio, sr = librosa.load(each_path)\n",
    "        wave_res = librosa.resample(audio, orig_sr=sr, target_sr=16000)\n",
    "        tg = textgrid.TextGrid.fromFile(each_path[:-3]+\"TextGrid\")\n",
    "        tg_sentence = tg[0]\n",
    "        for _,i in enumerate(tg[0]):\n",
    "            if i.mark!=\"\":\n",
    "                tg_sentence[_-1].maxTime=tg_sentence[_].minTime\n",
    "        tg_sentence = [i for i in tg_sentence if i.mark!=\"\"]\n",
    "        tg_sentence=[tg_sentence[i] for i in set1_list+set2_list]\n",
    "        tg_word = [i for i in tg[1] if i.mark!=\"\" and i.mark!=\"sp\"]\n",
    "        \n",
    "        for _,each_sentence in enumerate(tg_sentence):\n",
    "            each_sentence_list=[]\n",
    "            start_sentence = int(each_sentence.minTime*16000)\n",
    "            end_sentence = int(each_sentence.maxTime*16000)\n",
    "            input=processor_P(wave_res[start_sentence:end_sentence], sampling_rate=16000, return_tensors=\"pt\").input_values.to(device)\n",
    "            with torch.no_grad():\n",
    "                out_encoder=model(input).logits\n",
    "                out_FE=model.wav2vec2.feature_extractor(input)[0].transpose(1,0).cpu().numpy()\n",
    "            outind=torch.argmax(out_encoder,dim=-1).cpu().numpy()\n",
    "            \n",
    "            sentence_total_length=each_sentence.maxTime-each_sentence.minTime\n",
    "            for key_word in list(keywords_dict.values())[_]:\n",
    "                for each_word_tg in tg_word:\n",
    "                    if each_word_tg.mark.lower()==key_word:\n",
    "                        if each_word_tg.minTime >= each_sentence.minTime and each_word_tg.maxTime <= each_sentence.maxTime:                        \n",
    "                            start=each_word_tg.minTime\n",
    "                            end=each_word_tg.maxTime\n",
    "                            break\n",
    "                word_cut_start=start-each_sentence.minTime\n",
    "                word_cut_end=end-each_sentence.minTime\n",
    "                word_start=round(out_FE.shape[0]*word_cut_start/sentence_total_length)\n",
    "                word_end=round(out_FE.shape[0]*word_cut_end/sentence_total_length)\n",
    "                #cut or full.......\n",
    "                indices=[_ for _,i in enumerate(outind[0]) if i>=5 and _>=word_start and _<=word_end]\n",
    "                letter_label=[list(processor.tokenizer.get_vocab().keys())[i] for _,i in enumerate(outind[0]) if i>=5 and _>=word_start and _<=word_end]\n",
    "                features=out_FE[indices,:]\n",
    "                each_sentence_list.append((letter_label, features))\n",
    "            out_dict[current_talker].append(each_sentence_list)\n",
    "        torch.cuda.empty_cache()\n",
    "    torch.cuda.empty_cache()\n",
    "    return out_dict\n",
    "\n",
    "\n",
    "def get_keywords_dict(human_result_1a):\n",
    "    '''\n",
    "    Return a dict, key: sentenceID, values: keywords\n",
    "    '''\n",
    "    keywords_dict={}\n",
    "    for each_ in human_result_1a.values:\n",
    "        sentenceID=each_[human_result_1a.columns.get_loc(\"SentenceID\")]\n",
    "        if sentenceID not in keywords_dict:\n",
    "            keywords_dict[sentenceID]=[]\n",
    "        keyword=each_[human_result_1a.columns.get_loc(\"Keyword\")]\n",
    "        if keyword not in keywords_dict[sentenceID]:\n",
    "            keywords_dict[sentenceID].append(keyword)\n",
    "    return dict(sorted(keywords_dict.items()))"
   ]
  },
  {
   "cell_type": "code",
   "execution_count": null,
   "metadata": {},
   "outputs": [],
   "source": []
  },
  {
   "cell_type": "code",
   "execution_count": null,
   "metadata": {},
   "outputs": [],
   "source": []
  },
  {
   "cell_type": "code",
   "execution_count": null,
   "metadata": {},
   "outputs": [],
   "source": []
  },
  {
   "cell_type": "code",
   "execution_count": 9,
   "metadata": {},
   "outputs": [],
   "source": [
    "human_result_path=r\"..\\data\\test.xlsx\"\n",
    "human_result = pd.read_excel(human_result_path)\n",
    "human_result_1a=human_result[human_result[\"Experiment\"]==\"1a\"]"
   ]
  },
  {
   "cell_type": "code",
   "execution_count": 151,
   "metadata": {},
   "outputs": [
    {
     "name": "stderr",
     "output_type": "stream",
     "text": [
      "100%|██████████| 11/11 [00:06<00:00,  1.75it/s]\n"
     ]
    }
   ],
   "source": [
    "audio_dir =r\"..\\Nov10\\speech_files\"\n",
    "keywords_dict=create_set(audio_dir, human_result_1a, model, processor)"
   ]
  },
  {
   "cell_type": "code",
   "execution_count": 155,
   "metadata": {},
   "outputs": [],
   "source": [
    "vector_data_set=[]\n",
    "for key, values in keywords_dict.items():\n",
    "    for each_sentence in values:\n",
    "        for label, vectors in each_sentence:\n",
    "            for vector in vectors:\n",
    "                vector_data_set.append(vector)"
   ]
  },
  {
   "cell_type": "code",
   "execution_count": 163,
   "metadata": {},
   "outputs": [],
   "source": [
    "from sklearn.manifold import TSNE\n",
    "tsne = TSNE(n_components=3, random_state=42)\n",
    "reduced_vectors = tsne.fit_transform(np.array(vector_data_set))"
   ]
  },
  {
   "cell_type": "code",
   "execution_count": 164,
   "metadata": {},
   "outputs": [
    {
     "data": {
      "text/plain": [
       "(6969, 3)"
      ]
     },
     "execution_count": 164,
     "metadata": {},
     "output_type": "execute_result"
    }
   ],
   "source": [
    "reduced_vectors.shape"
   ]
  },
  {
   "cell_type": "code",
   "execution_count": 168,
   "metadata": {},
   "outputs": [],
   "source": [
    "keywords_dict1=copy.deepcopy(keywords_dict)\n",
    "count=0\n",
    "for key, values in keywords_dict.items():\n",
    "    for _,each_sentence in enumerate(values):\n",
    "        for __,(label, vectors) in enumerate(each_sentence):\n",
    "            start=copy.deepcopy(count)\n",
    "            for vector in vectors:\n",
    "                count+=1\n",
    "            #print(reduced_vectors[start:count,:].shape, vectors.shape)\n",
    "            if reduced_vectors[start:count,:].shape[0] == vectors.shape[0]:\n",
    "                keywords_dict1[key][_][__]=(label, reduced_vectors[start:count,:])\n",
    "            else:\n",
    "                print(\"ERROR\")\n",
    "                "
   ]
  },
  {
   "cell_type": "code",
   "execution_count": 233,
   "metadata": {},
   "outputs": [
    {
     "data": {
      "text/plain": [
       "['ALL_016_M_CMN_ENG_HT1',\n",
       " 'ALL_021_M_CMN_ENG_HT1',\n",
       " 'ALL_032_M_CMN_ENG_HT1',\n",
       " 'ALL_035_M_CMN_ENG_HT1',\n",
       " 'ALL_037_M_CMN_ENG_HT1',\n",
       " 'ALL_043_M_CMN_ENG_HT1',\n",
       " 'ALL_055_M_ENG_ENG_HT1',\n",
       " 'ALL_066_M_ENG_ENG_HT1',\n",
       " 'ALL_070_M_ENG_ENG_HT1',\n",
       " 'ALL_131_M_ENG_ENG_HT1',\n",
       " 'ALL_133_M_ENG_ENG_HT1']"
      ]
     },
     "execution_count": 233,
     "metadata": {},
     "output_type": "execute_result"
    }
   ],
   "source": [
    "list(keywords_dict1.keys())"
   ]
  },
  {
   "cell_type": "code",
   "execution_count": 224,
   "metadata": {},
   "outputs": [
    {
     "data": {
      "text/plain": [
       "10.797859585627993"
      ]
     },
     "execution_count": 224,
     "metadata": {},
     "output_type": "execute_result"
    }
   ],
   "source": [
    "X=np.random.rand(3,20)\n",
    "Y=np.random.rand(3,10)\n",
    "D,wp=librosa.sequence.dtw(X,Y,metric='euclidean')\n",
    "D[-1, -1]"
   ]
  },
  {
   "cell_type": "code",
   "execution_count": null,
   "metadata": {},
   "outputs": [
    {
     "data": {
      "text/plain": [
       "['CMN_M_035']"
      ]
     },
     "execution_count": 260,
     "metadata": {},
     "output_type": "execute_result"
    }
   ],
   "source": [
    "human_result_1a.values[0][human_result_1a.columns.get_loc(\"TrainingTalkerID\")].split(\", \")"
   ]
  },
  {
   "cell_type": "code",
   "execution_count": 242,
   "metadata": {},
   "outputs": [
    {
     "data": {
      "text/plain": [
       "'ALL_032_M_CMN_ENG_HT1'"
      ]
     },
     "execution_count": 242,
     "metadata": {},
     "output_type": "execute_result"
    }
   ],
   "source": [
    "os.path.basename(human_result_1a.values[0][human_result_1a.columns.get_loc(\"Filename\")])[:-5]"
   ]
  },
  {
   "cell_type": "code",
   "execution_count": 265,
   "metadata": {},
   "outputs": [
    {
     "data": {
      "text/plain": [
       "(3, 2)"
      ]
     },
     "execution_count": 265,
     "metadata": {},
     "output_type": "execute_result"
    }
   ],
   "source": [
    "np.ones((2,3)).transpose().shape"
   ]
  },
  {
   "cell_type": "code",
   "execution_count": 337,
   "metadata": {},
   "outputs": [
    {
     "name": "stderr",
     "output_type": "stream",
     "text": [
      "100%|██████████| 16477/16477 [00:01<00:00, 9176.67it/s]\n"
     ]
    }
   ],
   "source": [
    "\n",
    "def sim_measure(df,keywords_dict, set_list, keywords):\n",
    "    sim_max_list,sim_std_list,sim_mean_list =[], [], []\n",
    "    \n",
    "    for each_ in tqdm.tqdm(df.values):\n",
    "        filename_loc=df.columns.get_loc(\"Filename\")\n",
    "        keyword_loc=df.columns.get_loc(\"Keyword\")\n",
    "        training_talker_loc=df.columns.get_loc(\"TrainingTalkerID\")\n",
    "        \n",
    "        key_word = each_[keyword_loc]\n",
    "        TrainingTalkerID = each_[training_talker_loc]\n",
    "        sentenceID = each_[df.columns.get_loc(\"SentenceID\")]\n",
    "        \n",
    "        testing_talker=os.path.basename(each_[filename_loc])[:-5]\n",
    "        training_talker=each_[training_talker_loc].split(\", \")\n",
    "        \n",
    "        sentence_ind=set_list.index(int(sentenceID[-3:])-1)\n",
    "        keyword_ind=keywords[sentenceID].index(key_word)\n",
    "        sim=[]\n",
    "        for each_exposure in training_talker:\n",
    "            exposure_talker=[i for i in list(keywords_dict.keys()) if each_exposure[-3:] in i][0]\n",
    "            #print(testing_talker,sentenceID,sentence_ind,keyword_ind)\n",
    "            X=keywords_dict[testing_talker][sentence_ind][keyword_ind][-1]\n",
    "            Y=keywords_dict[exposure_talker][sentence_ind][keyword_ind][-1]\n",
    "            D, wp=librosa.sequence.dtw(X.transpose(),Y.transpose(),metric='euclidean')\n",
    "            sim.append(D[-1, -1])\n",
    "        sim_max_list.append(np.min(sim))\n",
    "        sim_mean_list.append(np.mean(sim))\n",
    "        \n",
    "    return sim_max_list, sim_std_list, sim_mean_list\n",
    "set1_list=[0,1,2,3,4,5,6,7,8,9,10,12,13,14,15,16]\n",
    "set2_list=[17,18,19,20,21,22,24,25,26,27,28,29,30,31,37,40]\n",
    "sim_max_list, sim_std_list, sim_mean_list=sim_measure(human_result_1a,keywords_dict1, set1_list+set2_list, get_keywords_dict(human_result_1a))"
   ]
  },
  {
   "cell_type": "code",
   "execution_count": 338,
   "metadata": {},
   "outputs": [
    {
     "name": "stderr",
     "output_type": "stream",
     "text": [
      "C:\\Users\\Alex\\AppData\\Local\\Temp\\ipykernel_442732\\3373943234.py:1: SettingWithCopyWarning: \n",
      "A value is trying to be set on a copy of a slice from a DataFrame.\n",
      "Try using .loc[row_indexer,col_indexer] = value instead\n",
      "\n",
      "See the caveats in the documentation: https://pandas.pydata.org/pandas-docs/stable/user_guide/indexing.html#returning-a-view-versus-a-copy\n",
      "  human_result_1a[\"sim_max\"]= np.exp(-0.01*np.array(sim_max_list))\n",
      "C:\\Users\\Alex\\AppData\\Local\\Temp\\ipykernel_442732\\3373943234.py:2: SettingWithCopyWarning: \n",
      "A value is trying to be set on a copy of a slice from a DataFrame.\n",
      "Try using .loc[row_indexer,col_indexer] = value instead\n",
      "\n",
      "See the caveats in the documentation: https://pandas.pydata.org/pandas-docs/stable/user_guide/indexing.html#returning-a-view-versus-a-copy\n",
      "  human_result_1a[\"sim_mean\"] = np.exp(-0.01*np.array(sim_mean_list))\n"
     ]
    }
   ],
   "source": [
    "human_result_1a[\"sim_max\"]= np.exp(-0.01*np.array(sim_max_list))\n",
    "human_result_1a[\"sim_mean\"] = np.exp(-0.01*np.array(sim_mean_list))\n",
    "human_result_1a.to_excel('similarities_t512.xlsx')"
   ]
  },
  {
   "cell_type": "code",
   "execution_count": null,
   "metadata": {},
   "outputs": [
    {
     "data": {
      "text/plain": [
       "<Figure size 1200x800 with 0 Axes>"
      ]
     },
     "metadata": {},
     "output_type": "display_data"
    },
    {
     "data": {
      "image/png": "[encoded data removed]",
      "text/plain": [
       "<Figure size 1200x1200 with 16 Axes>"
      ]
     },
     "metadata": {},
     "output_type": "display_data"
    }
   ],
   "source": [
    "import pandas as pd\n",
    "import numpy as np\n",
    "import matplotlib.pyplot as plt\n",
    "d_sim = pd.read_excel(\"./similarities_t512.xlsx\")\n",
    "d_sim = d_sim[(d_sim['Experiment'] == '1a') & (d_sim['PartOfExp'] == 'test')]\n",
    "d_sim = d_sim.rename(columns={'TrainingTalkerID': 'ExposureTalkerID'})\n",
    "d_sim['ExposureTalkerID'] = d_sim.apply(\n",
    "    lambda row: row['ExposureTalkerID'] if row['Condition2'] == 'Single talker' \n",
    "    else f\"Exposure for {row['Condition2']} - TestTalkerID {row['TestTalkerID']}\" if row['Condition2'] in ['Multi-talker', 'Talker-specific'] \n",
    "    else f\"Exposure for {row['Condition2']}\",\n",
    "    axis=1\n",
    ")\n",
    "d_sim['KeywordID'] = pd.factorize(d_sim['Keyword'])[0] + 1\n",
    "id_columns = ['WorkerID', 'ExposureTalkerID', 'TestTalkerID', 'SentenceID', 'KeywordID']\n",
    "d_sim[id_columns] = d_sim[id_columns].astype('category')\n",
    "d_sim['Condition'] = pd.Categorical(d_sim['Condition2'], categories=['Control', 'Single talker', 'Multi-talker', 'Talker-specific'], ordered=True)\n",
    "\n",
    "grouped_sim = d_sim.groupby(['Condition', 'ExposureTalkerID', 'TestTalkerID', 'SentenceID', 'KeywordID']).agg(\n",
    "    sim_mean_max=('sim_max', 'mean')\n",
    ").reset_index()\n",
    "\n",
    "single_talker_data = grouped_sim[grouped_sim['Condition'] == 'Single talker']\n",
    "control_data = grouped_sim[grouped_sim['Condition'] == 'Control']\n",
    "multi_talker_data = grouped_sim[grouped_sim['Condition'] == 'Multi-talker']\n",
    "talker_specific_data = grouped_sim[grouped_sim['Condition'] == 'Talker-specific']\n",
    "control_data_expanded = pd.concat([control_data] , ignore_index=True)\n",
    "multi_talker_data_expanded = pd.concat([multi_talker_data] , ignore_index=True)\n",
    "#talker_specific_data_expanded = pd.concat([talker_specific_data] * 10, ignore_index=True)\n",
    "balanced_grouped_sim = pd.concat([single_talker_data, control_data_expanded, multi_talker_data_expanded], ignore_index=True)\n",
    "\n",
    "\n",
    "plt.figure(figsize=(12, 8))\n",
    "g = sns.FacetGrid(balanced_grouped_sim, row='TestTalkerID', col='Condition', margin_titles=True, sharex=True)\n",
    "g.map(sns.histplot, 'sim_mean_max', bins=100)\n",
    "g.set(xlim=(0.6, 1.1))\n",
    "#g.set(ylim=(-0.1,15))\n",
    "plt.tight_layout()\n",
    "plt.show()\n",
    "\n"
   ]
  },
  {
   "cell_type": "code",
   "execution_count": 340,
   "metadata": {},
   "outputs": [
    {
     "data": {
      "text/html": [
       "<div>\n",
       "<style scoped>\n",
       "    .dataframe tbody tr th:only-of-type {\n",
       "        vertical-align: middle;\n",
       "    }\n",
       "\n",
       "    .dataframe tbody tr th {\n",
       "        vertical-align: top;\n",
       "    }\n",
       "\n",
       "    .dataframe thead th {\n",
       "        text-align: right;\n",
       "    }\n",
       "</style>\n",
       "<table border=\"1\" class=\"dataframe\">\n",
       "  <thead>\n",
       "    <tr style=\"text-align: right;\">\n",
       "      <th></th>\n",
       "      <th>Condition</th>\n",
       "      <th>sim_mean_max</th>\n",
       "      <th>sim_mean_mean</th>\n",
       "      <th>sim_max</th>\n",
       "      <th>sim_mean</th>\n",
       "    </tr>\n",
       "  </thead>\n",
       "  <tbody>\n",
       "    <tr>\n",
       "      <th>0</th>\n",
       "      <td>Control</td>\n",
       "      <td>0.406317</td>\n",
       "      <td>0.494225</td>\n",
       "      <td>0.593797</td>\n",
       "      <td>0.494225</td>\n",
       "    </tr>\n",
       "    <tr>\n",
       "      <th>1</th>\n",
       "      <td>Single talker</td>\n",
       "      <td>0.529253</td>\n",
       "      <td>0.529253</td>\n",
       "      <td>0.529253</td>\n",
       "      <td>0.529253</td>\n",
       "    </tr>\n",
       "    <tr>\n",
       "      <th>2</th>\n",
       "      <td>Multi-talker</td>\n",
       "      <td>0.415538</td>\n",
       "      <td>0.521650</td>\n",
       "      <td>0.639102</td>\n",
       "      <td>0.521650</td>\n",
       "    </tr>\n",
       "    <tr>\n",
       "      <th>3</th>\n",
       "      <td>Talker-specific</td>\n",
       "      <td>1.000000</td>\n",
       "      <td>1.000000</td>\n",
       "      <td>1.000000</td>\n",
       "      <td>1.000000</td>\n",
       "    </tr>\n",
       "  </tbody>\n",
       "</table>\n",
       "</div>"
      ],
      "text/plain": [
       "         Condition  sim_mean_max  sim_mean_mean   sim_max  sim_mean\n",
       "0          Control      0.406317       0.494225  0.593797  0.494225\n",
       "1    Single talker      0.529253       0.529253  0.529253  0.529253\n",
       "2     Multi-talker      0.415538       0.521650  0.639102  0.521650\n",
       "3  Talker-specific      1.000000       1.000000  1.000000  1.000000"
      ]
     },
     "execution_count": 340,
     "metadata": {},
     "output_type": "execute_result"
    }
   ],
   "source": [
    "d_sim.groupby('Condition').agg(\n",
    "    {col: 'mean' for col in d_sim.columns if col.startswith('sim')}\n",
    ").reset_index()\n"
   ]
  },
  {
   "cell_type": "code",
   "execution_count": 301,
   "metadata": {},
   "outputs": [
    {
     "data": {
      "image/png": "[encoded data removed]",
      "text/plain": [
       "<Figure size 640x480 with 1 Axes>"
      ]
     },
     "metadata": {},
     "output_type": "display_data"
    }
   ],
   "source": [
    "import seaborn as sns\n",
    "sns.histplot(np.array(sim_max_list)[np.nonzero(np.array(sim_max_list))], bins=range(int(np.min(np.array(sim_max_list)[np.nonzero(np.array(sim_max_list))])) , int(np.max(np.array(sim_max_list)[np.nonzero(np.array(sim_max_list))]))), kde=True )\n",
    "\n",
    "plt.show()"
   ]
  },
  {
   "cell_type": "code",
   "execution_count": 290,
   "metadata": {},
   "outputs": [],
   "source": [
    "#get_keywords_dict(human_result_1a)[human_result_1a.values[0][human_result_1a.columns.get_loc(\"SentenceID\")]].index(\"very\")\n"
   ]
  },
  {
   "cell_type": "code",
   "execution_count": null,
   "metadata": {},
   "outputs": [],
   "source": []
  },
  {
   "cell_type": "code",
   "execution_count": 326,
   "metadata": {},
   "outputs": [],
   "source": [
    "a=[j for i in list(get_keywords_dict(human_result_1a).values())[:16] for j in i]\n",
    "b=[j for i in list(get_keywords_dict(human_result_1a).values())[16:] for j in i]"
   ]
  },
  {
   "cell_type": "code",
   "execution_count": 331,
   "metadata": {},
   "outputs": [
    {
     "data": {
      "text/plain": [
       "{'family'}"
      ]
     },
     "execution_count": 331,
     "metadata": {},
     "output_type": "execute_result"
    }
   ],
   "source": [
    "set(a).intersection(set(b))"
   ]
  },
  {
   "cell_type": "code",
   "execution_count": 332,
   "metadata": {},
   "outputs": [
    {
     "data": {
      "text/plain": [
       "['boy',\n",
       " 'fell',\n",
       " 'window',\n",
       " 'wife',\n",
       " 'helped',\n",
       " 'husband',\n",
       " 'big',\n",
       " 'dogs',\n",
       " 'be',\n",
       " 'dangerous',\n",
       " 'shoes',\n",
       " 'were',\n",
       " 'very',\n",
       " 'dirty',\n",
       " 'player',\n",
       " 'lost',\n",
       " 'shoe',\n",
       " 'somebody',\n",
       " 'stole',\n",
       " 'money',\n",
       " 'fire',\n",
       " 'very',\n",
       " 'hot',\n",
       " 'drinking',\n",
       " 'own',\n",
       " 'cup',\n",
       " 'picture',\n",
       " 'came',\n",
       " 'book',\n",
       " 'car',\n",
       " 'going',\n",
       " 'too',\n",
       " 'fast',\n",
       " 'paint',\n",
       " 'dripped',\n",
       " 'ground',\n",
       " 'family',\n",
       " 'likes',\n",
       " 'fish',\n",
       " 'bananas',\n",
       " 'are',\n",
       " 'too',\n",
       " 'ripe',\n",
       " 'grew',\n",
       " 'lots',\n",
       " 'vegetables',\n",
       " 'argues',\n",
       " 'sister',\n",
       " 'kitchen',\n",
       " 'window',\n",
       " 'was',\n",
       " 'clean']"
      ]
     },
     "execution_count": 332,
     "metadata": {},
     "output_type": "execute_result"
    }
   ],
   "source": [
    "a"
   ]
  },
  {
   "cell_type": "code",
   "execution_count": 333,
   "metadata": {},
   "outputs": [
    {
     "data": {
      "text/plain": [
       "['hung',\n",
       " 'raincoat',\n",
       " 'mailman',\n",
       " 'brought',\n",
       " 'letter',\n",
       " 'mother',\n",
       " 'heard',\n",
       " 'baby',\n",
       " 'found',\n",
       " 'purse',\n",
       " 'trash',\n",
       " 'table',\n",
       " 'has',\n",
       " 'three',\n",
       " 'legs',\n",
       " 'children',\n",
       " 'waved',\n",
       " 'train',\n",
       " 'girl',\n",
       " 'fixing',\n",
       " 'dress',\n",
       " 'time',\n",
       " 'go',\n",
       " 'bed',\n",
       " 'mother',\n",
       " 'read',\n",
       " 'instructions',\n",
       " 'dog',\n",
       " 'eating',\n",
       " 'some',\n",
       " 'meat',\n",
       " 'father',\n",
       " 'forgot',\n",
       " 'bread',\n",
       " 'road',\n",
       " 'goes',\n",
       " 'hill',\n",
       " 'painter',\n",
       " 'uses',\n",
       " 'brush',\n",
       " 'family',\n",
       " 'bought',\n",
       " 'house',\n",
       " 'had',\n",
       " 'two',\n",
       " 'empty',\n",
       " 'bottles',\n",
       " 'house',\n",
       " 'had',\n",
       " 'nine',\n",
       " 'bedrooms']"
      ]
     },
     "execution_count": 333,
     "metadata": {},
     "output_type": "execute_result"
    }
   ],
   "source": [
    "b"
   ]
  }
 ],
 "metadata": {
  "kernelspec": {
   "display_name": "BayesPCN",
   "language": "python",
   "name": "python3"
  },
  "language_info": {
   "codemirror_mode": {
    "name": "ipython",
    "version": 3
   },
   "file_extension": ".py",
   "mimetype": "text/x-python",
   "name": "python",
   "nbconvert_exporter": "python",
   "pygments_lexer": "ipython3",
   "version": "3.9.18"
  }
 },
 "nbformat": 4,
 "nbformat_minor": 2
}
