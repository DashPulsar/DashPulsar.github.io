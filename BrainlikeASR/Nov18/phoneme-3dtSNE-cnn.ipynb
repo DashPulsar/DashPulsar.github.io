{
 "cells": [
  {
   "cell_type": "code",
   "execution_count": 6,
   "metadata": {},
   "outputs": [
    {
     "name": "stderr",
     "output_type": "stream",
     "text": [
      "[nltk_data] Downloading package cmudict to\n",
      "[nltk_data]     C:\\Users\\Alex\\AppData\\Roaming\\nltk_data...\n",
      "[nltk_data]   Package cmudict is already up-to-date!\n",
      "c:\\Users\\Alex\\anaconda3\\envs\\BayesPCN\\lib\\site-packages\\huggingface_hub\\file_download.py:1132: FutureWarning: `resume_download` is deprecated and will be removed in version 1.0.0. Downloads always resume when possible. If you want to force a new download, use `force_download=True`.\n",
      "  warnings.warn(\n",
      "Some weights of the model checkpoint at facebook/wav2vec2-lv-60-espeak-cv-ft were not used when initializing Wav2Vec2ForCTC: ['wav2vec2.encoder.pos_conv_embed.conv.weight_g', 'wav2vec2.encoder.pos_conv_embed.conv.weight_v']\n",
      "- This IS expected if you are initializing Wav2Vec2ForCTC from the checkpoint of a model trained on another task or with another architecture (e.g. initializing a BertForSequenceClassification model from a BertForPreTraining model).\n",
      "- This IS NOT expected if you are initializing Wav2Vec2ForCTC from the checkpoint of a model that you expect to be exactly identical (initializing a BertForSequenceClassification model from a BertForSequenceClassification model).\n",
      "Some weights of Wav2Vec2ForCTC were not initialized from the model checkpoint at facebook/wav2vec2-lv-60-espeak-cv-ft and are newly initialized: ['wav2vec2.encoder.pos_conv_embed.conv.parametrizations.weight.original0', 'wav2vec2.encoder.pos_conv_embed.conv.parametrizations.weight.original1']\n",
      "You should probably TRAIN this model on a down-stream task to be able to use it for predictions and inference.\n",
      "Some weights of the model checkpoint at facebook/wav2vec2-large-960h were not used when initializing Wav2Vec2ForCTC: ['wav2vec2.encoder.pos_conv_embed.conv.weight_g', 'wav2vec2.encoder.pos_conv_embed.conv.weight_v']\n",
      "- This IS expected if you are initializing Wav2Vec2ForCTC from the checkpoint of a model trained on another task or with another architecture (e.g. initializing a BertForSequenceClassification model from a BertForPreTraining model).\n",
      "- This IS NOT expected if you are initializing Wav2Vec2ForCTC from the checkpoint of a model that you expect to be exactly identical (initializing a BertForSequenceClassification model from a BertForSequenceClassification model).\n",
      "Some weights of Wav2Vec2ForCTC were not initialized from the model checkpoint at facebook/wav2vec2-large-960h and are newly initialized: ['wav2vec2.encoder.pos_conv_embed.conv.parametrizations.weight.original0', 'wav2vec2.encoder.pos_conv_embed.conv.parametrizations.weight.original1', 'wav2vec2.masked_spec_embed']\n",
      "You should probably TRAIN this model on a down-stream task to be able to use it for predictions and inference.\n"
     ]
    }
   ],
   "source": [
    "from phonecodes import phonecodes\n",
    "from torchtext.data.utils import get_tokenizer\n",
    "from torchtext.vocab import build_vocab_from_iterator\n",
    "from typing import Iterable, List\n",
    "from torch.nn.utils.rnn import pad_sequence\n",
    "from torch.utils.data import DataLoader, Dataset\n",
    "from timeit import default_timer as timer\n",
    "from torch.nn import Transformer\n",
    "from torch import Tensor\n",
    "from sklearn.model_selection import train_test_split\n",
    "import copy\n",
    "import tqdm\n",
    "import librosa\n",
    "import seaborn as sns\n",
    "import torch.nn as nn\n",
    "import torch\n",
    "import torch.nn.functional as F\n",
    "import numpy as np\n",
    "import math\n",
    "import os\n",
    "import pandas as pd\n",
    "import matplotlib.pyplot as plt\n",
    "import textgrid\n",
    "from scipy.spatial.distance import euclidean\n",
    "import plotly.graph_objects as go\n",
    "import pandas as pd\n",
    "import jiwer\n",
    "device = torch.device(\"cuda\" if torch.cuda.is_available() else \"cpu\")\n",
    "import nltk\n",
    "nltk.download('cmudict')\n",
    "from nltk.corpus import cmudict\n",
    "from transformers import AutoProcessor, AutoModelForCTC\n",
    "from phonemizer.backend.espeak.wrapper import EspeakWrapper\n",
    "import soundfile as sf\n",
    "\n",
    "_ESPEAK_LIBRARY = r\"C:\\Program Files\\eSpeak NG\\libespeak-ng.dll\"\n",
    "EspeakWrapper.set_library(_ESPEAK_LIBRARY)\n",
    "processor_P = AutoProcessor.from_pretrained(\"facebook/wav2vec2-lv-60-espeak-cv-ft\")\n",
    "model_P = AutoModelForCTC.from_pretrained(\"facebook/wav2vec2-lv-60-espeak-cv-ft\")\n",
    "from transformers import Wav2Vec2ForCTC\n",
    "from transformers import Wav2Vec2ForCTC, Wav2Vec2Processor\n",
    "processor = Wav2Vec2Processor.from_pretrained(\"facebook/wav2vec2-large-960h\")\n",
    "model = Wav2Vec2ForCTC.from_pretrained(\"facebook/wav2vec2-large-960h\")"
   ]
  },
  {
   "cell_type": "code",
   "execution_count": 32,
   "metadata": {},
   "outputs": [],
   "source": [
    "def get_pathset(paths):\n",
    "    return [os.path.join(dir, each_file) for dir, mid, files in os.walk(paths) for each_file in files if each_file.endswith(\".wav\")]\n",
    "def CTC_index(processor,outind):\n",
    "    meaningful_ids = []\n",
    "    meaningful_indices = []\n",
    "    previous_id = -1  \n",
    "    blank_token_id = processor.tokenizer.pad_token_id  \n",
    "    for i, token_id in enumerate(outind[0]):  \n",
    "        if token_id != previous_id and token_id != blank_token_id:\n",
    "            meaningful_ids.append(token_id.item())  \n",
    "            meaningful_indices.append(i)  \n",
    "        previous_id = token_id\n",
    "    return meaningful_indices\n",
    "\n",
    "def build_exposure_set(paths, native_dict, set_list, model,processor):\n",
    "    diphone_dict={}\n",
    "    uniphone_dict={}\n",
    "\n",
    "    for each_sentence in paths:\n",
    "        tg = textgrid.TextGrid.fromFile(each_sentence[:-3]+\"TextGrid\")\n",
    "        tg_sentence = [i for i in tg[0] if i.mark!=\"\"]\n",
    "        tg_sentence = [each for _,each in enumerate(tg_sentence) if _ in set_list]\n",
    "        \n",
    "        wave, sr = librosa.load(each_sentence)\n",
    "        wave_res = librosa.resample(wave, orig_sr=sr, target_sr=16000)\n",
    "        #wave_res = wave_res[:int(sentence16_end_time*16000)]\n",
    "        for each_tg in tg_sentence:\n",
    "            #each_phonemes =[arpabet_to_ipa[i.mark] for i in tg[-1] if each_tg.minTime<=i.minTime and each_tg.maxTime>=i.maxTime and i.mark!=\"\" and i.mark!=\"sp\" and i.mark!=\"sil\"]\n",
    "            start=round(each_tg.minTime*16000)\n",
    "            end=round(each_tg.maxTime*16000)\n",
    "            input=processor(wave_res[start:end],sampling_rate=16000, return_tensors=\"pt\").input_values\n",
    "            input=input.to(device)\n",
    "            model.to(device)\n",
    "            with torch.no_grad():\n",
    "                out_encoder1=model(input).logits\n",
    "            out_FE=model.wav2vec2.feature_extractor(input)[0].transpose(1,0).cpu().detach().numpy()\n",
    "            outind=torch.argmax(out_encoder1,dim=-1).cpu().numpy()\n",
    "            \n",
    "            indices=[_ for _,i in enumerate(outind[0]) if i>=5 ]\n",
    "            letter_label=[list(processor.tokenizer.get_vocab().keys())[i] for _,i in enumerate(outind[0]) if i>=5]\n",
    "            features=out_FE[indices,:]\n",
    "            #transcription = processor.batch_decode(outind)[0].split(\" \")\n",
    "            #phonemeindex = CTC_index(processor,outind)\n",
    "            \n",
    "            \n",
    "            for i in range(len(letter_label)-1):\n",
    "                key = (letter_label[i], letter_label[i + 1])\n",
    "                if key not in diphone_dict:\n",
    "                    diphone_dict[key] = []\n",
    "\n",
    "                diphone_dict[key].append(np.vstack((features[i], features[i + 1])))\n",
    " \n",
    "            for i in range(len(letter_label)):\n",
    "                if letter_label[i] not in uniphone_dict:\n",
    "                    uniphone_dict[letter_label[i]]=[]\n",
    "                uniphone_dict[letter_label[i]].append(features[i])\n",
    "\n",
    "        torch.cuda.empty_cache()\n",
    "    torch.cuda.empty_cache()\n",
    "    return diphone_dict,uniphone_dict"
   ]
  },
  {
   "cell_type": "code",
   "execution_count": 37,
   "metadata": {},
   "outputs": [],
   "source": [
    "def get_test_list(file_path,key_word,sentenceID,model,processor):\n",
    "    sentenceID=int(sentenceID[-3:])-1\n",
    "    tg = textgrid.TextGrid.fromFile(file_path[:-3]+\"TextGrid\")\n",
    "    tg_sentence = [i for i in tg[0] if i.mark!=\"\"][sentenceID]\n",
    "    tg_word = [i for i in tg[1] if i.mark!=\"\" and i.mark!=\"sp\"]\n",
    "    wave, sr = librosa.load(file_path)\n",
    "    wave_res = librosa.resample(wave, orig_sr=sr, target_sr=16000)\n",
    "\n",
    "    for each_word_tg in tg_word:\n",
    "        if each_word_tg.mark.lower()==key_word:\n",
    "            if each_word_tg.minTime >= tg_sentence.minTime and each_word_tg.maxTime <= tg_sentence.maxTime:\n",
    "                start=each_word_tg.minTime\n",
    "                end=each_word_tg.maxTime\n",
    "                break\n",
    "    out_list=[]\n",
    "\n",
    "    sentence_total_length=tg_sentence.maxTime-tg_sentence.minTime\n",
    "    word_cut_start=start-tg_sentence.minTime\n",
    "    word_cut_end=end-tg_sentence.minTime\n",
    "    \n",
    "    input=processor(wave_res[int(tg_sentence.minTime*16000):round(tg_sentence.maxTime*16000)], sampling_rate=16000, return_tensors=\"pt\").input_values.to(device)\n",
    "    with torch.no_grad():\n",
    "        out_encoder=model(input.to(device)).logits\n",
    "        out_FE=model.wav2vec2.feature_extractor(input)[0].transpose(1,0).cpu().numpy()\n",
    "    \n",
    "    word_start=round(out_encoder.shape[1]*word_cut_start/sentence_total_length)\n",
    "    word_end=round(out_encoder.shape[1]*word_cut_end/sentence_total_length)\n",
    "    outind=torch.argmax(out_encoder,dim=-1).cpu().numpy()\n",
    "    \n",
    "    indices=[_ for _,i in enumerate(outind[0]) if i>=5 and _>=word_start and _<=word_end]\n",
    "    letter_label=[list(processor.tokenizer.get_vocab().keys())[i] for _,i in enumerate(outind[0]) if i>=5 and _>=word_start and _<=word_end]\n",
    "    features=out_FE[indices,:]\n",
    "    \n",
    "    if len(indices)<2:\n",
    "        diphone_key = tuple(letter_label[0])\n",
    "        out_list.append((diphone_key, features[0]))\n",
    "\n",
    "    else:\n",
    "        for i in range(len(letter_label)-1):\n",
    "            diphone_key = (letter_label[i] , letter_label[i + 1])\n",
    "        #print(indices)\n",
    "        out_list.append((diphone_key, np.vstack((features[i], features[i + 1]))))\n",
    "    torch.cuda.empty_cache()\n",
    "    return out_list"
   ]
  },
  {
   "cell_type": "code",
   "execution_count": 46,
   "metadata": {},
   "outputs": [],
   "source": [
    "def get_training_paths(TrainingTalkerID,all_path):\n",
    "    path_list=[]\n",
    "    TalkerID=[]\n",
    "    for each_ID in TrainingTalkerID.split(\", \"):\n",
    "        if each_ID[:3]==\"CMN\":\n",
    "            TalkerID.append(f\"ALL_{each_ID[-3:]}_M_CMN_ENG_HT1\")\n",
    "        else:\n",
    "            TalkerID.append(f\"ALL_{each_ID[-3:]}_M_ENG_ENG_HT1\")\n",
    "    \n",
    "    for each_path in TalkerID:\n",
    "        for i in all_path:\n",
    "            if each_path in i:\n",
    "                path_list.append(i)\n",
    "                break\n",
    "    return path_list\n",
    "\n",
    "def sim_measure(df, model, processor):\n",
    "    sim_mean_max_list,sim_mean_std_list,sim_mean_mean_list,isincluded_list,diphone_count =[], [], [], [], []\n",
    "\n",
    "\n",
    "    train_set_dict={}\n",
    "    test_word_dict={}\n",
    "    test_matrix_dict={}\n",
    "    for each_ in tqdm.tqdm(df.values):\n",
    "        filename_loc=df.columns.get_loc(\"Filename\")\n",
    "        keyword_loc=df.columns.get_loc(\"Keyword\")\n",
    "        training_talker_loc=df.columns.get_loc(\"TrainingTalkerID\")\n",
    "        \n",
    "        all_path=get_pathset(r\"..\\Nov10\\speech_files\")\n",
    "        #all_ENG_ENG_pathset=[s.replace(\"raw_L1\", \"raw\") for s in get_pathset(r\"..\\data\\raw_L1\")]\n",
    "        \n",
    "        set1_list=[0,1,2,3,4,5,6,7,8,9,10,12,13,14,15,16]\n",
    "        set2_list=[17,18,19,20,21,22,24,25,26,27,28,29,30,31,37,40]\n",
    "        if each_[df.columns.get_loc(\"TrainingTestSet\")] == \"set2,set1\":\n",
    "            train_set=set2_list\n",
    "            test_set=set1_list\n",
    "        else:\n",
    "            train_set=set1_list\n",
    "            test_set=set2_list\n",
    "        \n",
    "        #print(each_[filename_loc])\n",
    "        test_file = [each for each in all_path if os.path.split(each_[filename_loc])[-1][:-5] in each]\n",
    "        #print(test_file)\n",
    "        key_word = each_[keyword_loc] #string\n",
    "        TrainingTalkerID = each_[training_talker_loc] #list of string\n",
    "        sentenceID = each_[df.columns.get_loc(\"SentenceID\")]\n",
    "        training_files_path=get_training_paths(TrainingTalkerID,all_path)\n",
    "        \n",
    "        if TrainingTalkerID not in train_set_dict:\n",
    "            train_set_dict[TrainingTalkerID]={}\n",
    "            \n",
    "        if each_[df.columns.get_loc(\"TrainingTestSet\")] not in train_set_dict[TrainingTalkerID]:\n",
    "            training_dict_di, training_dict_uni=build_exposure_set(training_files_path, {}, train_set, model, processor)#copy.deepcopy(all_eng_dict)\n",
    "            train_set_dict[TrainingTalkerID][each_[df.columns.get_loc(\"TrainingTestSet\")]]=(copy.deepcopy(training_dict_di),copy.deepcopy(training_dict_uni))\n",
    "        else:\n",
    "            training_dict_di, training_dict_uni=train_set_dict[TrainingTalkerID][each_[df.columns.get_loc(\"TrainingTestSet\")]]\n",
    "        \n",
    "        \n",
    "        \n",
    "        if test_file[0] not in test_word_dict:\n",
    "            test_word_dict[test_file[0]]={}\n",
    "        if sentenceID not in test_word_dict[test_file[0]]:\n",
    "            test_word_dict[test_file[0]][sentenceID]={}\n",
    "        if key_word not in test_word_dict[test_file[0]][sentenceID]:\n",
    "            test_list = get_test_list(test_file[0], key_word, sentenceID, model, processor)\n",
    "            test_word_dict[test_file[0]][sentenceID][key_word]=copy.deepcopy(test_list)\n",
    "        else:\n",
    "            test_list=test_word_dict[test_file[0]][sentenceID][key_word]\n",
    "\n",
    "        \n",
    "        # word level, list\n",
    "        sim_max=[]\n",
    "        sim_std=[]\n",
    "        sim_mean=[]\n",
    "        isincluded=[]\n",
    "        #sim_count=[]\n",
    "        for _, each_diphone in enumerate(test_list):\n",
    "            sims=[]\n",
    "            if len(each_diphone[0])==1:\n",
    "                if each_diphone[0][0] in training_dict_uni.keys():\n",
    "                    for each_vec in training_dict_uni[each_diphone[0][0]]:\n",
    "                        current_test_uni=each_diphone[1].ravel()\n",
    "                        current_test_uni=np.hstack((current_test_uni,current_test_uni))\n",
    "                        current_e_uni=each_vec.ravel()\n",
    "                        current_e_uni=np.hstack((current_e_uni,current_e_uni))\n",
    "                        sim=np.exp(-0.3*euclidean(current_test_uni,current_e_uni))\n",
    "                        sims.append(sim)\n",
    "                        isincluded.append(0)\n",
    "                        \n",
    "                else:\n",
    "                    raise IndexError(\"Uniphone unmatch\")\n",
    "                sim_max.append(np.max(sims))\n",
    "                sim_std.append(np.std(sims))\n",
    "                sim_mean.append(np.mean(sims))\n",
    "            else:\n",
    "                if each_diphone[0] in training_dict_di.keys():\n",
    "                    for each_vec in training_dict_di[each_diphone[0]]:\n",
    "                        sim=np.exp(-0.3*euclidean(each_diphone[1].ravel(),each_vec.ravel()))\n",
    "                        sims.append(sim)\n",
    "                        isincluded.append(1)\n",
    "                        \n",
    "                else:\n",
    "                    if each_diphone[0][0] in training_dict_uni.keys() and each_diphone[0][1] in training_dict_uni.keys():\n",
    "                        for each_vec in training_dict_uni[each_diphone[0][0]]:\n",
    "                            current_test_uni=each_diphone[1].ravel()[:512]\n",
    "                            current_test_uni=np.hstack((current_test_uni,current_test_uni))\n",
    "                            current_e_uni=each_vec.ravel()\n",
    "                            current_e_uni=np.hstack((current_e_uni,current_e_uni))\n",
    "                            d=euclidean(current_test_uni,current_e_uni)\n",
    "                            sims.append(np.exp(-0.3*d))\n",
    "                        for each_vec in training_dict_uni[each_diphone[0][1]]:\n",
    "                            current_test_uni=each_diphone[1].ravel()[512:]\n",
    "                            current_test_uni=np.hstack((current_test_uni,current_test_uni))\n",
    "                            current_e_uni=each_vec.ravel()\n",
    "                            current_e_uni=np.hstack((current_e_uni,current_e_uni))\n",
    "                            sims.append(np.exp(-0.3*euclidean(current_test_uni,current_e_uni)))\n",
    "                    elif each_diphone[0][0] in training_dict_uni.keys():\n",
    "                        for each_vec in training_dict_uni[each_diphone[0][0]]:\n",
    "                            current_test_uni=each_diphone[1].ravel()[:512]\n",
    "                            current_test_uni=np.hstack((current_test_uni,current_test_uni))\n",
    "                            current_e_uni=each_vec.ravel()\n",
    "                            current_e_uni=np.hstack((current_e_uni,current_e_uni))\n",
    "                            d=euclidean(current_test_uni,current_e_uni)\n",
    "                            sims.append(np.exp(-0.3*d))\n",
    "                    elif each_diphone[0][1] in training_dict_uni.keys():\n",
    "                        for each_vec in training_dict_uni[each_diphone[0][1]]:\n",
    "                            current_test_uni=each_diphone[1].ravel()[512:]\n",
    "                            current_test_uni=np.hstack((current_test_uni,current_test_uni))\n",
    "                            current_e_uni=each_vec.ravel()\n",
    "                            current_e_uni=np.hstack((current_e_uni,current_e_uni))\n",
    "                            sims.append(np.exp(-0.3*euclidean(current_test_uni,current_e_uni)))\n",
    "                    else:\n",
    "                        sims.append(0)\n",
    "                    isincluded.append(0)\n",
    "                sim_max.append(np.max(sims))\n",
    "                sim_std.append(np.std(sims))\n",
    "                sim_mean.append(np.mean(sims))\n",
    "                    \n",
    "        \n",
    "        sim_mean_max=np.mean(sim_max)\n",
    "        sim_mean_std=np.mean(sim_std)\n",
    "        sim_mean_mean=np.mean(sim_mean)\n",
    "        \n",
    "        #X_list.append(X_)\n",
    "        #Y_list.append(Y_)\n",
    "        #wav2vec_acc_list.append(np.count_nonzero(phoneme_error)/len(phoneme_error))\n",
    "        #confusion_matrix_list.append(confusion_matrix)\n",
    "        sim_mean_max_list.append(sim_mean_max)\n",
    "        sim_mean_std_list.append(sim_mean_std)\n",
    "        sim_mean_mean_list.append(sim_mean_mean)\n",
    "        isincluded_list.append(np.count_nonzero(isincluded)/len(isincluded))\n",
    "        diphone_count.append(len(isincluded))\n",
    "        \n",
    "    return sim_mean_max_list,sim_mean_std_list,sim_mean_mean_list,isincluded_list,diphone_count\n",
    "\n"
   ]
  },
  {
   "cell_type": "code",
   "execution_count": 21,
   "metadata": {},
   "outputs": [],
   "source": [
    "human_result_path=r\"..\\data\\test.xlsx\"\n",
    "human_result = pd.read_excel(human_result_path)\n",
    "human_result_1a=human_result[human_result[\"Experiment\"]==\"1a\"]"
   ]
  },
  {
   "cell_type": "code",
   "execution_count": 5,
   "metadata": {},
   "outputs": [],
   "source": [
    "audio_dir =r\"..\\Nov10\\speech_files\"\n",
    "each_sentence=get_pathset(audio_dir)[0]"
   ]
  },
  {
   "cell_type": "code",
   "execution_count": 47,
   "metadata": {},
   "outputs": [
    {
     "name": "stderr",
     "output_type": "stream",
     "text": [
      "  0%|          | 0/16477 [00:00<?, ?it/s]"
     ]
    },
    {
     "name": "stderr",
     "output_type": "stream",
     "text": [
      "100%|██████████| 16477/16477 [04:40<00:00, 58.67it/s] \n"
     ]
    }
   ],
   "source": [
    "sim_mean_max_list,sim_mean_std_list,sim_mean_mean_list,isincluded_list,diphone_count=sim_measure(human_result_1a,model, processor)"
   ]
  },
  {
   "cell_type": "code",
   "execution_count": 48,
   "metadata": {},
   "outputs": [
    {
     "name": "stderr",
     "output_type": "stream",
     "text": [
      "C:\\Users\\Alex\\AppData\\Local\\Temp\\ipykernel_374316\\438118633.py:1: SettingWithCopyWarning: \n",
      "A value is trying to be set on a copy of a slice from a DataFrame.\n",
      "Try using .loc[row_indexer,col_indexer] = value instead\n",
      "\n",
      "See the caveats in the documentation: https://pandas.pydata.org/pandas-docs/stable/user_guide/indexing.html#returning-a-view-versus-a-copy\n",
      "  human_result_1a[\"sim_mean_max\"]=sim_mean_max_list\n",
      "C:\\Users\\Alex\\AppData\\Local\\Temp\\ipykernel_374316\\438118633.py:2: SettingWithCopyWarning: \n",
      "A value is trying to be set on a copy of a slice from a DataFrame.\n",
      "Try using .loc[row_indexer,col_indexer] = value instead\n",
      "\n",
      "See the caveats in the documentation: https://pandas.pydata.org/pandas-docs/stable/user_guide/indexing.html#returning-a-view-versus-a-copy\n",
      "  human_result_1a[\"sim_mean_std\"]=sim_mean_std_list\n",
      "C:\\Users\\Alex\\AppData\\Local\\Temp\\ipykernel_374316\\438118633.py:3: SettingWithCopyWarning: \n",
      "A value is trying to be set on a copy of a slice from a DataFrame.\n",
      "Try using .loc[row_indexer,col_indexer] = value instead\n",
      "\n",
      "See the caveats in the documentation: https://pandas.pydata.org/pandas-docs/stable/user_guide/indexing.html#returning-a-view-versus-a-copy\n",
      "  human_result_1a[\"sim_mean_mean\"] = sim_mean_mean_list\n",
      "C:\\Users\\Alex\\AppData\\Local\\Temp\\ipykernel_374316\\438118633.py:4: SettingWithCopyWarning: \n",
      "A value is trying to be set on a copy of a slice from a DataFrame.\n",
      "Try using .loc[row_indexer,col_indexer] = value instead\n",
      "\n",
      "See the caveats in the documentation: https://pandas.pydata.org/pandas-docs/stable/user_guide/indexing.html#returning-a-view-versus-a-copy\n",
      "  human_result_1a[\"diphone_overlapped_rate\"]=isincluded_list\n",
      "C:\\Users\\Alex\\AppData\\Local\\Temp\\ipykernel_374316\\438118633.py:5: SettingWithCopyWarning: \n",
      "A value is trying to be set on a copy of a slice from a DataFrame.\n",
      "Try using .loc[row_indexer,col_indexer] = value instead\n",
      "\n",
      "See the caveats in the documentation: https://pandas.pydata.org/pandas-docs/stable/user_guide/indexing.html#returning-a-view-versus-a-copy\n",
      "  human_result_1a[\"NumDiphone_word\"]=diphone_count\n"
     ]
    }
   ],
   "source": [
    "human_result_1a[\"sim_mean_max\"]=sim_mean_max_list\n",
    "human_result_1a[\"sim_mean_std\"]=sim_mean_std_list\n",
    "human_result_1a[\"sim_mean_mean\"] = sim_mean_mean_list\n",
    "human_result_1a[\"diphone_overlapped_rate\"]=isincluded_list\n",
    "human_result_1a[\"NumDiphone_word\"]=diphone_count\n",
    "human_result_1a.to_excel('similarities_p_t512.xlsx')\n"
   ]
  },
  {
   "cell_type": "code",
   "execution_count": 50,
   "metadata": {},
   "outputs": [
    {
     "data": {
      "text/plain": [
       "<Figure size 1200x800 with 0 Axes>"
      ]
     },
     "metadata": {},
     "output_type": "display_data"
    },
    {
     "data": {
      "image/png": "[encoded data removed]",
      "text/plain": [
       "<Figure size 1200x1200 with 16 Axes>"
      ]
     },
     "metadata": {},
     "output_type": "display_data"
    }
   ],
   "source": [
    "import pandas as pd\n",
    "import numpy as np\n",
    "import matplotlib.pyplot as plt\n",
    "d_sim = pd.read_excel(\"./similarities_p_t512.xlsx\")\n",
    "d_sim = d_sim[(d_sim['Experiment'] == '1a') & (d_sim['PartOfExp'] == 'test')]\n",
    "d_sim = d_sim.rename(columns={'TrainingTalkerID': 'ExposureTalkerID'})\n",
    "d_sim['ExposureTalkerID'] = d_sim.apply(\n",
    "    lambda row: row['ExposureTalkerID'] if row['Condition2'] == 'Single talker' \n",
    "    else f\"Exposure for {row['Condition2']} - TestTalkerID {row['TestTalkerID']}\" if row['Condition2'] in ['Multi-talker', 'Talker-specific'] \n",
    "    else f\"Exposure for {row['Condition2']}\",\n",
    "    axis=1\n",
    ")\n",
    "d_sim['KeywordID'] = pd.factorize(d_sim['Keyword'])[0] + 1\n",
    "d_sim['ProportionDiphoneOverlap'] = d_sim['diphone_overlapped_rate'] #/ d_sim['NumDiphone_word']\n",
    "id_columns = ['WorkerID', 'ExposureTalkerID', 'TestTalkerID', 'SentenceID', 'KeywordID']\n",
    "d_sim[id_columns] = d_sim[id_columns].astype('category')\n",
    "d_sim['Condition'] = pd.Categorical(d_sim['Condition2'], categories=['Control', 'Single talker', 'Multi-talker', 'Talker-specific'], ordered=True)\n",
    "\n",
    "grouped_sim = d_sim.groupby(['Condition', 'ExposureTalkerID', 'TestTalkerID', 'SentenceID', 'KeywordID']).agg(\n",
    "    sim_mean_max=('sim_mean_max', 'mean')\n",
    ").reset_index()\n",
    "\n",
    "single_talker_data = grouped_sim[grouped_sim['Condition'] == 'Single talker']\n",
    "control_data = grouped_sim[grouped_sim['Condition'] == 'Control']\n",
    "multi_talker_data = grouped_sim[grouped_sim['Condition'] == 'Multi-talker']\n",
    "talker_specific_data = grouped_sim[grouped_sim['Condition'] == 'Talker-specific']\n",
    "control_data_expanded = pd.concat([control_data] , ignore_index=True)\n",
    "multi_talker_data_expanded = pd.concat([multi_talker_data] , ignore_index=True)\n",
    "talker_specific_data_expanded = pd.concat([talker_specific_data] , ignore_index=True)\n",
    "balanced_grouped_sim = pd.concat([single_talker_data, control_data_expanded, multi_talker_data_expanded, talker_specific_data_expanded], ignore_index=True)\n",
    "\n",
    "\n",
    "plt.figure(figsize=(12, 8))\n",
    "g = sns.FacetGrid(balanced_grouped_sim, row='TestTalkerID', col='Condition', margin_titles=True, sharex=True)\n",
    "g.map(sns.histplot, 'sim_mean_max', bins=100)\n",
    "g.set(xlim=(0.6, 1.1))\n",
    "#g.set(ylim=(-0.1,15))\n",
    "plt.tight_layout()\n",
    "plt.show()\n",
    "\n",
    "\n",
    "\n"
   ]
  },
  {
   "cell_type": "code",
   "execution_count": 51,
   "metadata": {},
   "outputs": [
    {
     "data": {
      "text/html": [
       "<div>\n",
       "<style scoped>\n",
       "    .dataframe tbody tr th:only-of-type {\n",
       "        vertical-align: middle;\n",
       "    }\n",
       "\n",
       "    .dataframe tbody tr th {\n",
       "        vertical-align: top;\n",
       "    }\n",
       "\n",
       "    .dataframe thead th {\n",
       "        text-align: right;\n",
       "    }\n",
       "</style>\n",
       "<table border=\"1\" class=\"dataframe\">\n",
       "  <thead>\n",
       "    <tr style=\"text-align: right;\">\n",
       "      <th></th>\n",
       "      <th>Condition</th>\n",
       "      <th>sim_mean_max</th>\n",
       "      <th>sim_mean_std</th>\n",
       "      <th>sim_mean_mean</th>\n",
       "    </tr>\n",
       "  </thead>\n",
       "  <tbody>\n",
       "    <tr>\n",
       "      <th>0</th>\n",
       "      <td>Control</td>\n",
       "      <td>0.882709</td>\n",
       "      <td>0.016349</td>\n",
       "      <td>0.848011</td>\n",
       "    </tr>\n",
       "    <tr>\n",
       "      <th>1</th>\n",
       "      <td>Single talker</td>\n",
       "      <td>0.873488</td>\n",
       "      <td>0.013053</td>\n",
       "      <td>0.851405</td>\n",
       "    </tr>\n",
       "    <tr>\n",
       "      <th>2</th>\n",
       "      <td>Multi-talker</td>\n",
       "      <td>0.880391</td>\n",
       "      <td>0.014140</td>\n",
       "      <td>0.851842</td>\n",
       "    </tr>\n",
       "    <tr>\n",
       "      <th>3</th>\n",
       "      <td>Talker-specific</td>\n",
       "      <td>0.878618</td>\n",
       "      <td>0.013627</td>\n",
       "      <td>0.855529</td>\n",
       "    </tr>\n",
       "  </tbody>\n",
       "</table>\n",
       "</div>"
      ],
      "text/plain": [
       "         Condition  sim_mean_max  sim_mean_std  sim_mean_mean\n",
       "0          Control      0.882709      0.016349       0.848011\n",
       "1    Single talker      0.873488      0.013053       0.851405\n",
       "2     Multi-talker      0.880391      0.014140       0.851842\n",
       "3  Talker-specific      0.878618      0.013627       0.855529"
      ]
     },
     "execution_count": 51,
     "metadata": {},
     "output_type": "execute_result"
    }
   ],
   "source": [
    "d_sim.groupby('Condition').agg(\n",
    "    {col: 'mean' for col in d_sim.columns if col.startswith('sim')}\n",
    ").reset_index()\n"
   ]
  },
  {
   "cell_type": "code",
   "execution_count": null,
   "metadata": {},
   "outputs": [],
   "source": []
  },
  {
   "cell_type": "code",
   "execution_count": null,
   "metadata": {},
   "outputs": [],
   "source": []
  },
  {
   "cell_type": "code",
   "execution_count": 7,
   "metadata": {},
   "outputs": [],
   "source": [
    "wave, sr = librosa.load(each_sentence)\n",
    "wave_res = librosa.resample(wave, orig_sr=sr, target_sr=16000)\n",
    "tg = textgrid.TextGrid.fromFile(each_sentence[:-3]+\"TextGrid\")\n",
    "tg_sentence = [i for i in tg[0] if i.mark!=\"\"]\n",
    "#wave_res = wave_res[:int(sentence16_end_time*16000)]\n",
    "for each_tg in tg_sentence:\n",
    "    #each_phonemes =[arpabet_to_ipa[i.mark] for i in tg[-1] if each_tg.minTime<=i.minTime and each_tg.maxTime>=i.maxTime and i.mark!=\"\" and i.mark!=\"sp\" and i.mark!=\"sil\"]\n",
    "    start=round(each_tg.minTime*16000)\n",
    "    end=round(each_tg.maxTime*16000)\n",
    "    input=processor(wave_res[start:end],sampling_rate=16000, return_tensors=\"pt\").input_values\n",
    "    input=input.to(device)\n",
    "    model.to(device)\n",
    "    with torch.no_grad():\n",
    "        out_encoder1=model(input).logits\n",
    "    outind=torch.argmax(out_encoder1,dim=-1).cpu().numpy()\n",
    "    #outind=torch.argmax(out_encoder1,dim=-1).cpu().numpy()\n",
    "    transcription = processor.batch_decode(outind)[0].split(\" \")"
   ]
  },
  {
   "cell_type": "code",
   "execution_count": 8,
   "metadata": {},
   "outputs": [
    {
     "data": {
      "text/plain": [
       "['THE', 'DOG', 'CAME', 'HOME', 'AT', 'LAST']"
      ]
     },
     "execution_count": 8,
     "metadata": {},
     "output_type": "execute_result"
    }
   ],
   "source": [
    "transcription"
   ]
  },
  {
   "cell_type": "code",
   "execution_count": null,
   "metadata": {},
   "outputs": [
    {
     "data": {
      "text/plain": [
       "array([[ 0,  0,  6, 11,  5,  0,  4,  4,  4,  0, 14,  0,  0,  8,  0,  0,\n",
       "         0,  0,  0,  0, 21,  0,  4,  4,  0,  0,  0,  0,  0, 19,  7,  0,\n",
       "         0, 17,  0,  5,  0,  4,  4,  4,  0, 11,  0,  0,  8,  0, 17, 17,\n",
       "         5,  0,  4,  4,  4,  4,  0,  0,  0,  0,  7,  0,  6,  0,  4,  4,\n",
       "         0,  0,  0, 15, 15,  0,  0,  0,  7,  0,  0,  0,  0,  0, 12,  0,\n",
       "         0,  6,  0,  0,  4,  4,  4,  4,  0]], dtype=int64)"
      ]
     },
     "execution_count": 9,
     "metadata": {},
     "output_type": "execute_result"
    }
   ],
   "source": []
  },
  {
   "cell_type": "code",
   "execution_count": 17,
   "metadata": {},
   "outputs": [
    {
     "data": {
      "text/plain": [
       "array([['<pad>', '<pad>', 'T', 'H', 'E', '<pad>', '|', '|', '|', '<pad>',\n",
       "        'D', '<pad>', '<pad>', 'O', '<pad>', '<pad>', '<pad>', '<pad>',\n",
       "        '<pad>', '<pad>', 'G', '<pad>', '|', '|', '<pad>', '<pad>',\n",
       "        '<pad>', '<pad>', '<pad>', 'C', 'A', '<pad>', '<pad>', 'M',\n",
       "        '<pad>', 'E', '<pad>', '|', '|', '|', '<pad>', 'H', '<pad>',\n",
       "        '<pad>', 'O', '<pad>', 'M', 'M', 'E', '<pad>', '|', '|', '|',\n",
       "        '|', '<pad>', '<pad>', '<pad>', '<pad>', 'A', '<pad>', 'T',\n",
       "        '<pad>', '|', '|', '<pad>', '<pad>', '<pad>', 'L', 'L', '<pad>',\n",
       "        '<pad>', '<pad>', 'A', '<pad>', '<pad>', '<pad>', '<pad>',\n",
       "        '<pad>', 'S', '<pad>', '<pad>', 'T', '<pad>', '<pad>', '|', '|',\n",
       "        '|', '|', '<pad>']], dtype='<U5')"
      ]
     },
     "execution_count": 17,
     "metadata": {},
     "output_type": "execute_result"
    }
   ],
   "source": [
    "np.array(list(processor.tokenizer.get_vocab().keys()))[np.array(outind)]"
   ]
  },
  {
   "cell_type": "code",
   "execution_count": 19,
   "metadata": {},
   "outputs": [
    {
     "data": {
      "text/plain": [
       "['T',\n",
       " 'H',\n",
       " 'E',\n",
       " 'D',\n",
       " 'O',\n",
       " 'G',\n",
       " 'C',\n",
       " 'A',\n",
       " 'M',\n",
       " 'E',\n",
       " 'H',\n",
       " 'O',\n",
       " 'M',\n",
       " 'M',\n",
       " 'E',\n",
       " 'A',\n",
       " 'T',\n",
       " 'L',\n",
       " 'L',\n",
       " 'A',\n",
       " 'S',\n",
       " 'T']"
      ]
     },
     "execution_count": 19,
     "metadata": {},
     "output_type": "execute_result"
    }
   ],
   "source": [
    "letter_label=[list(processor.tokenizer.get_vocab().keys())[i] for _,i in enumerate(outind[0]) if i>=5]\n",
    "letter_label"
   ]
  },
  {
   "cell_type": "code",
   "execution_count": 20,
   "metadata": {},
   "outputs": [
    {
     "data": {
      "text/plain": [
       "[2,\n",
       " 3,\n",
       " 4,\n",
       " 10,\n",
       " 13,\n",
       " 20,\n",
       " 29,\n",
       " 30,\n",
       " 33,\n",
       " 35,\n",
       " 41,\n",
       " 44,\n",
       " 46,\n",
       " 47,\n",
       " 48,\n",
       " 58,\n",
       " 60,\n",
       " 67,\n",
       " 68,\n",
       " 72,\n",
       " 78,\n",
       " 81]"
      ]
     },
     "execution_count": 20,
     "metadata": {},
     "output_type": "execute_result"
    }
   ],
   "source": [
    "indices=[_ for _,i in enumerate(outind[0]) if i>=5]\n",
    "indices"
   ]
  }
 ],
 "metadata": {
  "kernelspec": {
   "display_name": "BayesPCN",
   "language": "python",
   "name": "python3"
  },
  "language_info": {
   "codemirror_mode": {
    "name": "ipython",
    "version": 3
   },
   "file_extension": ".py",
   "mimetype": "text/x-python",
   "name": "python",
   "nbconvert_exporter": "python",
   "pygments_lexer": "ipython3",
   "version": "3.9.18"
  }
 },
 "nbformat": 4,
 "nbformat_minor": 2
}
